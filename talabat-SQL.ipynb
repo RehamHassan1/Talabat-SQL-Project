{
 "cells": [
  {
   "cell_type": "code",
   "execution_count": 1,
   "metadata": {},
   "outputs": [
    {
     "name": "stdout",
     "output_type": "stream",
     "text": [
      "<mysql.connector.connection_cext.CMySQLConnection object at 0x00000256FE438E10>\n"
     ]
    }
   ],
   "source": [
    "from mysql import connector\n",
    "\n",
    "mydb = connector.connect(\n",
    "  host=\"localhost\",\n",
    "  user=\"root\",\n",
    "  password=\"root\",\n",
    "  port = \"3306\"\n",
    ")\n",
    "\n",
    "print(mydb)"
   ]
  },
  {
   "cell_type": "code",
   "execution_count": 2,
   "metadata": {},
   "outputs": [
    {
     "name": "stdout",
     "output_type": "stream",
     "text": [
      "('depi',)\n",
      "('emp',)\n",
      "('information_schema',)\n",
      "('mysql',)\n",
      "('performance_schema',)\n",
      "('sakila',)\n",
      "('sys',)\n",
      "('talabat',)\n",
      "('world',)\n"
     ]
    }
   ],
   "source": [
    "cursor = mydb.cursor()\n",
    "cursor.execute(\"SHOW DATABASES\")\n",
    "# print(cursor.fetchall())\n",
    "for db in cursor:\n",
    "    print(db)"
   ]
  },
  {
   "cell_type": "code",
   "execution_count": 3,
   "metadata": {},
   "outputs": [
    {
     "name": "stdout",
     "output_type": "stream",
     "text": [
      "('depi',)\n",
      "('emp',)\n",
      "('information_schema',)\n",
      "('mysql',)\n",
      "('performance_schema',)\n",
      "('sakila',)\n",
      "('sys',)\n",
      "('talabat',)\n",
      "('world',)\n"
     ]
    }
   ],
   "source": [
    "cursor = mydb.cursor()\n",
    "#cursor.execute(\"CREATE DATABASE Talabat\")\n",
    "cursor.execute(\"SHOW DATABASES\")\n",
    "for db in cursor:\n",
    "    print(db)"
   ]
  },
  {
   "cell_type": "markdown",
   "metadata": {},
   "source": [
    "Import data from pandas to mysql"
   ]
  },
  {
   "cell_type": "code",
   "execution_count": 4,
   "metadata": {},
   "outputs": [],
   "source": [
    "#!pip install sqlalchemy"
   ]
  },
  {
   "cell_type": "code",
   "execution_count": 5,
   "metadata": {},
   "outputs": [],
   "source": [
    "import pandas as pd\n",
    "from sqlalchemy import create_engine\n"
   ]
  },
  {
   "cell_type": "code",
   "execution_count": 6,
   "metadata": {},
   "outputs": [
    {
     "name": "stdout",
     "output_type": "stream",
     "text": [
      "Data inserted successfully into the 'fct_order' table.\n",
      "Columns in the 'fct_order' table: ['order_id', 'order_time', 'vendor_id', 'analytical_customer_id', 'is_acquisition', 'is_successful', 'reason', 'sub_reason', 'owner', 'delivery_arrangement', 'gmv_amount_lc', 'basket_amount_lc', 'delivery_fee_amount_lc', 'Payment Method', 'actual_delivery_time', 'promised_delivery_time', 'order_delay', 'dropoff_distance_manhattan', 'platform', 'vertical_class', 'vertical', 'is_affordable_freedelivery', 'is_affordable_item', 'is_affordable_gem', 'is_affordable_restaurant', 'is_affordable_voucher', 'is_affordable', 'affordability_amt_total', 'City Cluster', 'City', 'Zone']\n"
     ]
    }
   ],
   "source": [
    "# Database connection details\n",
    "username = 'root'\n",
    "password = 'root'\n",
    "host = 'localhost'\n",
    "database = 'Talabat'\n",
    "\n",
    "# Create connection string and engine\n",
    "connection_string = f'mysql+mysqlconnector://{username}:{password}@{host}/{database}'\n",
    "engine = create_engine(connection_string)\n",
    "\n",
    "# Read Excel file into DataFrame\n",
    "file_path = r'D:\\DataScience\\mySQL\\Talbat Case Study Dataset.xlsx'\n",
    "try:\n",
    "    df = pd.read_excel(file_path)\n",
    "except FileNotFoundError:\n",
    "    print(f\"Error: File not found at {file_path}.\")\n",
    "    exit()\n",
    "\n",
    "# Write DataFrame to MySQL table\n",
    "try:\n",
    "    df.to_sql('fct_order', con=engine, if_exists='replace', index=False)\n",
    "    print(\"Data inserted successfully into the 'fct_order' table.\")\n",
    "except Exception as e:\n",
    "    print(f\"Error during data insertion: {e}\")\n",
    "    exit()\n",
    "\n",
    "# Verify data insertion\n",
    "try:\n",
    "    # 1.\tSelect all columns from the fct_order table.\n",
    "    result_df = pd.read_sql('SELECT * FROM fct_order', con=engine)\n",
    "    print(f\"Columns in the 'fct_order' table: {result_df.columns.tolist()}\")\n",
    "except Exception as e:\n",
    "    print(f\"Error during data verification: {e}\")\n"
   ]
  },
  {
   "cell_type": "markdown",
   "metadata": {},
   "source": [
    "2.\tRetrieve only the order_id, order_time, and vendor_id columns from the fct_order table.\n"
   ]
  },
  {
   "cell_type": "code",
   "execution_count": 7,
   "metadata": {},
   "outputs": [
    {
     "name": "stdout",
     "output_type": "stream",
     "text": [
      "         order_id          order_time  vendor_id\n",
      "0       544145594 2021-09-01 10:41:53     609508\n",
      "1       544478492 2021-09-01 18:17:52     602440\n",
      "2       544358032 2021-09-01 15:56:56     709071\n",
      "3       544366924 2021-09-01 16:09:09     607670\n",
      "4       544372362 2021-09-01 16:16:32     616421\n",
      "...           ...                 ...        ...\n",
      "119880  642783788 2022-01-01 09:50:45     604427\n",
      "119881  642718374 2022-01-01 03:24:56     607605\n",
      "119882  642739962 2022-01-01 06:58:07     603674\n",
      "119883  643440356 2022-01-01 23:00:07     602778\n",
      "119884  643105834 2022-01-01 17:01:47     602795\n",
      "\n",
      "[119885 rows x 3 columns]\n"
     ]
    }
   ],
   "source": [
    "try:\n",
    "    result_df = pd.read_sql('SELECT order_id, order_time, vendor_id FROM fct_order', con=engine)\n",
    "    print(result_df)\n",
    "except Exception as e:\n",
    "    print(f\"Error during data retrieval: {e}\")\n"
   ]
  },
  {
   "cell_type": "markdown",
   "metadata": {},
   "source": [
    "3.\tFind all successful orders\n"
   ]
  },
  {
   "cell_type": "code",
   "execution_count": 8,
   "metadata": {},
   "outputs": [
    {
     "name": "stdout",
     "output_type": "stream",
     "text": [
      "        order_id          order_time  vendor_id    analytical_customer_id  \\\n",
      "0      544541536 2021-09-01 19:17:57     747787  oaTpDQW2OrSc2KBCWBOeUo9w   \n",
      "1      544550533 2021-09-01 19:26:23     724548  G-uZ6Ra-D_RX-WVqaWr_F5Gg   \n",
      "2      544509239 2021-09-01 18:47:47     724548  G-uZ6Ra-D_RX-WVqaWr_F5Gg   \n",
      "3      544966242 2021-09-02 12:02:57     749515  CTTXP9ZmvsS5mylyZVFuSE6g   \n",
      "4      547175482 2021-09-04 23:31:07     618852  AA8-hKZuguSxuGEzZY6mB4zA   \n",
      "...          ...                 ...        ...                       ...   \n",
      "19711  641822624 2021-12-31 01:58:11     719914  JdXmpmHq_3QIqfbcHZ2JvMeA   \n",
      "19712  643444387 2022-01-01 23:06:56     601538  T0JHCJSucwRXu3QtS7SKU2aA   \n",
      "19713  643406999 2022-01-01 22:12:33     761271  voGFPXrOdoSqOmuHr_0o6X-A   \n",
      "19714  640797844 2021-12-29 21:41:37     753078  HtYa7vUa_PRlaJh2UzO7lglg   \n",
      "19715  641655142 2021-12-30 21:26:45     747677  sZn_gh_uicSMuGlo_cmKo-qQ   \n",
      "\n",
      "       is_acquisition  is_successful                   reason  \\\n",
      "0                   0              0       VENDOR_UNREACHABLE   \n",
      "1                   0              0          VENDOR_TOO_BUSY   \n",
      "2                   0              0          VENDOR_TOO_BUSY   \n",
      "3                   0              0       VENDOR_NO_RESPONSE   \n",
      "4                   0              0   CUSTOMER_MISTAKE_ERROR   \n",
      "...               ...            ...                      ...   \n",
      "19711               0              0  UNABLE_TO_FIND_CUSTOMER   \n",
      "19712               0              0            LATE_DELIVERY   \n",
      "19713               0              0   CUSTOMER_MISTAKE_ERROR   \n",
      "19714               0              0           REASON_UNKNOWN   \n",
      "19715               0              0           REASON_UNKNOWN   \n",
      "\n",
      "                                          sub_reason      owner  \\\n",
      "0                                               None     VENDOR   \n",
      "1                                               None     VENDOR   \n",
      "2                                               None     VENDOR   \n",
      "3                                               None     VENDOR   \n",
      "4      Canceled by Customer - Before vendor accepted   CUSTOMER   \n",
      "...                                              ...        ...   \n",
      "19711                                           None   CUSTOMER   \n",
      "19712                                           None  TRANSPORT   \n",
      "19713                 Changed mind - Mistake / Error   CUSTOMER   \n",
      "19714                                           None   PLATFORM   \n",
      "19715                                           None   PLATFORM   \n",
      "\n",
      "      delivery_arrangement  ...  is_affordable_freedelivery  \\\n",
      "0                      TGO  ...                           0   \n",
      "1                      TGO  ...                           0   \n",
      "2                      TGO  ...                           0   \n",
      "3                      TGO  ...                           1   \n",
      "4                      TGO  ...                           0   \n",
      "...                    ...  ...                         ...   \n",
      "19711                  TGO  ...                           0   \n",
      "19712                  TGO  ...                           0   \n",
      "19713                  TGO  ...                           0   \n",
      "19714                  TMP  ...                           0   \n",
      "19715                  TMP  ...                           0   \n",
      "\n",
      "       is_affordable_item  is_affordable_gem is_affordable_restaurant  \\\n",
      "0                       0                  0                        0   \n",
      "1                       0                  0                        0   \n",
      "2                       0                  0                        0   \n",
      "3                       0                  0                        0   \n",
      "4                       0                  0                        0   \n",
      "...                   ...                ...                      ...   \n",
      "19711                   0                  0                        0   \n",
      "19712                   0                  0                        0   \n",
      "19713                   0                  0                        0   \n",
      "19714                   0                  0                        0   \n",
      "19715                   0                  0                        0   \n",
      "\n",
      "       is_affordable_voucher  is_affordable  affordability_amt_total  \\\n",
      "0                          1              0                     None   \n",
      "1                          1              0                     None   \n",
      "2                          1              0                     None   \n",
      "3                          1              1                     None   \n",
      "4                          1              0                     None   \n",
      "...                      ...            ...                      ...   \n",
      "19711                      1              0                     None   \n",
      "19712                      1              0                     None   \n",
      "19713                      1              0                     None   \n",
      "19714                      0              0                     None   \n",
      "19715                      0              0                     None   \n",
      "\n",
      "       City Cluster      City               Zone  \n",
      "0             Delta     Tanta              Tanta  \n",
      "1             Cairo     Cairo               Giza  \n",
      "2             Cairo     Cairo               Giza  \n",
      "3             Delta   Zagazig            Zagazig  \n",
      "4             Delta     Tanta              Tanta  \n",
      "...             ...       ...                ...  \n",
      "19711         Cairo     Cairo  Cairo_city_centre  \n",
      "19712         Cairo     Cairo            October  \n",
      "19713         Delta  Mansoura           Mansoura  \n",
      "19714         Cairo     Cairo      Tagammoa awal  \n",
      "19715           ESM  Ismailia       Ismalia city  \n",
      "\n",
      "[19716 rows x 31 columns]\n"
     ]
    }
   ],
   "source": [
    "try:\n",
    "    result_df = pd.read_sql(\"SELECT * FROM fct_order WHERE is_successful = 'SUCCESS'\", con=engine)\n",
    "    print(result_df)\n",
    "except Exception as e:\n",
    "    print(f\"Error during data retrieval: {e}\")"
   ]
  },
  {
   "cell_type": "markdown",
   "metadata": {},
   "source": [
    "4.\tList distinct values of City from the fct_order table.\n"
   ]
  },
  {
   "cell_type": "code",
   "execution_count": 9,
   "metadata": {},
   "outputs": [
    {
     "name": "stdout",
     "output_type": "stream",
     "text": [
      "                    city\n",
      "0                  Cairo\n",
      "1                  Tanta\n",
      "2             Alexandria\n",
      "3                Zagazig\n",
      "4                 Assiut\n",
      "5               Damietta\n",
      "6               Mansoura\n",
      "7                 Talkha\n",
      "8   Al Mahallah Al Kubra\n",
      "9               Ismailia\n",
      "10          Damietta New\n",
      "11             Port Said\n",
      "12                 Banha\n",
      "13              Hurghada\n",
      "14             Damanhour\n",
      "15                 Minya\n",
      "16       Shebeen El Koom\n",
      "17                  None\n",
      "18                 Suhag\n",
      "19           North Coast\n",
      "20                  Suez\n",
      "21            Ras El Bar\n",
      "22              El Gouna\n"
     ]
    }
   ],
   "source": [
    "try:\n",
    "    result_df = pd.read_sql('SELECT DISTINCT city FROM fct_order', con=engine)\n",
    "    print(result_df)\n",
    "except Exception as e:\n",
    "    print(f\"Error during data retrieval: {e}\")"
   ]
  },
  {
   "cell_type": "markdown",
   "metadata": {},
   "source": [
    "5.\tRetrieve all vendors whose vertical is 'Food'.\n"
   ]
  },
  {
   "cell_type": "code",
   "execution_count": 10,
   "metadata": {},
   "outputs": [
    {
     "name": "stdout",
     "output_type": "stream",
     "text": [
      "         order_id          order_time  vendor_id    analytical_customer_id  \\\n",
      "0       544145594 2021-09-01 10:41:53     609508  6zWSp9yqnEQuq4N6ykRgbbdQ   \n",
      "1       544478492 2021-09-01 18:17:52     602440  TtmFFw26sQR26nBE2RykhxQA   \n",
      "2       544358032 2021-09-01 15:56:56     709071  7pB4MC2aBPRdajLH2wPvIvAA   \n",
      "3       544366924 2021-09-01 16:09:09     607670  AFedsf0e-lSZer_X0eR4VE-g   \n",
      "4       544372362 2021-09-01 16:16:32     616421  JDYqF36aULSEaWsz604DuuRw   \n",
      "...           ...                 ...        ...                       ...   \n",
      "105052  642783788 2022-01-01 09:50:45     604427  _B1YUyVOo-RLOoFMVCiTi-DQ   \n",
      "105053  642718374 2022-01-01 03:24:56     607605  yTrHLDAuhuScuiCHABzNUdWA   \n",
      "105054  642739962 2022-01-01 06:58:07     603674  jWIm4qj6vORl6B1ejy0EImDQ   \n",
      "105055  643440356 2022-01-01 23:00:07     602778  RiSAcy9SUKT5SU_k9rWqVeug   \n",
      "105056  643105834 2022-01-01 17:01:47     602795  3zGv03US8BT-SpBHUAKVWmDQ   \n",
      "\n",
      "        is_acquisition  is_successful reason sub_reason owner  \\\n",
      "0                    0              1   None       None  None   \n",
      "1                    0              1   None       None  None   \n",
      "2                    0              1   None       None  None   \n",
      "3                    0              1   None       None  None   \n",
      "4                    0              1   None       None  None   \n",
      "...                ...            ...    ...        ...   ...   \n",
      "105052               1              1   None       None  None   \n",
      "105053               0              1   None       None  None   \n",
      "105054               0              1   None       None  None   \n",
      "105055               0              1   None       None  None   \n",
      "105056               1              1   None       None  None   \n",
      "\n",
      "       delivery_arrangement  ...  is_affordable_freedelivery  \\\n",
      "0                       TGO  ...                           0   \n",
      "1                       TGO  ...                           0   \n",
      "2                       TGO  ...                           0   \n",
      "3                       TGO  ...                           0   \n",
      "4                       TGO  ...                           0   \n",
      "...                     ...  ...                         ...   \n",
      "105052                  TMP  ...                           0   \n",
      "105053                  TMP  ...                           0   \n",
      "105054                  TMP  ...                           0   \n",
      "105055                  TMP  ...                           0   \n",
      "105056                  TMP  ...                           0   \n",
      "\n",
      "        is_affordable_item  is_affordable_gem is_affordable_restaurant  \\\n",
      "0                        0                  0                        0   \n",
      "1                        0                  0                        0   \n",
      "2                        0                  0                        0   \n",
      "3                        0                  0                        0   \n",
      "4                        0                  0                        0   \n",
      "...                    ...                ...                      ...   \n",
      "105052                   0                  0                        0   \n",
      "105053                   0                  0                        0   \n",
      "105054                   0                  0                        0   \n",
      "105055                   0                  0                        0   \n",
      "105056                   0                  0                        0   \n",
      "\n",
      "        is_affordable_voucher  is_affordable  affordability_amt_total  \\\n",
      "0                           0              0                      NaN   \n",
      "1                           0              0                      NaN   \n",
      "2                           0              0                      NaN   \n",
      "3                           0              0                      NaN   \n",
      "4                           0              0                      NaN   \n",
      "...                       ...            ...                      ...   \n",
      "105052                      0              0                      NaN   \n",
      "105053                      0              0                      NaN   \n",
      "105054                      0              0                      NaN   \n",
      "105055                      0              0                      NaN   \n",
      "105056                      0              0                      NaN   \n",
      "\n",
      "        City Cluster        City               Zone  \n",
      "0              Cairo       Cairo        Mohandiseen  \n",
      "1              Cairo       Cairo  Cairo_city_centre  \n",
      "2              Cairo       Cairo     Tagamoa 5 east  \n",
      "3              Cairo       Cairo  Cairo_city_centre  \n",
      "4              Cairo       Cairo              Maadi  \n",
      "...              ...         ...                ...  \n",
      "105052         Cairo       Cairo   Hadayek el qobba  \n",
      "105053         Cairo       Cairo         Heliopolis  \n",
      "105054         Cairo       Cairo         Tagammoa 5  \n",
      "105055          Alex  Alexandria    Alexandria west  \n",
      "105056         Cairo       Cairo             Helwan  \n",
      "\n",
      "[105057 rows x 31 columns]\n"
     ]
    }
   ],
   "source": [
    "try:\n",
    "    result_df = pd.read_sql(\"SELECT * FROM fct_order WHERE vertical = 'Food'\", con=engine)\n",
    "    print(result_df)\n",
    "except Exception as e:  \n",
    "    print(f\"Error during data retrieval: {e}\")"
   ]
  },
  {
   "cell_type": "markdown",
   "metadata": {},
   "source": [
    "6.\tSort all vendors alphabetically by their name_en.\n"
   ]
  },
  {
   "cell_type": "code",
   "execution_count": 11,
   "metadata": {},
   "outputs": [
    {
     "name": "stdout",
     "output_type": "stream",
     "text": [
      "Data inserted successfully into the 'dim_vendor' table.\n",
      "Sorted vendors:\n",
      "      vendor_id                                            name_en  \\\n",
      "0        752811  ,KFC, Ahmed Orabi Omar Afandi - B Tech - Mohan...   \n",
      "1        764442              \" Desoky & Soda Tagammoa 5 - Cloud 9\"   \n",
      "2        613453     1000 Hana, 6th of October - El Hay El Motamyez   \n",
      "3        754383                     109 street, El Gomhuria Street   \n",
      "4        724284                                         2 GO,Miami   \n",
      "...         ...                                                ...   \n",
      "6146     607116                             Zooba, El Sheikh Zayed   \n",
      "6147     744646                       Zooba, Madinaty - Green Belt   \n",
      "6148     728489                  Zooka Smoky House, Mokattam - 9ST   \n",
      "6149     725418                             Zuba, 16 El Bradizo ST   \n",
      "6150     746170                                  ع El Nail, Agouza   \n",
      "\n",
      "          chain_name_en vertical_class vertical main_cuisine  \n",
      "0                   KFC           food     food    Fast Food  \n",
      "1         Desoky & Soda           food     food        Pasta  \n",
      "2             1000 Hana           food     food   Sandwiches  \n",
      "3                109 ST           food     food      Italian  \n",
      "4                  2 GO           food     food    Beverages  \n",
      "...                 ...            ...      ...          ...  \n",
      "6146              Zooba           food     food     Oriental  \n",
      "6147              Zooba           food     food     Oriental  \n",
      "6148  Zooka Smoky House           food     food   Sandwiches  \n",
      "6149               Zuba           food     food     Oriental  \n",
      "6150          ع El Nail           food     food     Desserts  \n",
      "\n",
      "[6151 rows x 6 columns]\n"
     ]
    }
   ],
   "source": [
    "connection_string = f'mysql+mysqlconnector://{username}:{password}@{host}/{database}'\n",
    "engine = create_engine(connection_string)\n",
    "file_path = r'D:\\DataScience\\mySQL\\Talbat Case Study Dataset.xlsx'\n",
    "df = pd.read_excel(file_path, sheet_name='dim_vendor')  \n",
    "try:\n",
    "    df.to_sql('dim_vendor', con=engine, if_exists='replace', index=False)\n",
    "    print(\"Data inserted successfully into the 'dim_vendor' table.\")\n",
    "    result_df = pd.read_sql('SELECT * FROM dim_vendor ORDER BY name_en ASC', con=engine)\n",
    "    print(\"Sorted vendors:\")\n",
    "    print(result_df)\n",
    "except Exception as e:\n",
    "    print(f\"Error: {e}\")"
   ]
  },
  {
   "cell_type": "markdown",
   "metadata": {},
   "source": [
    "7.\tCount the total number of orders in the fct_order table.\n"
   ]
  },
  {
   "cell_type": "code",
   "execution_count": 12,
   "metadata": {},
   "outputs": [
    {
     "name": "stdout",
     "output_type": "stream",
     "text": [
      "   total_orders\n",
      "0        119885\n"
     ]
    }
   ],
   "source": [
    "try:\n",
    "    result_df = pd.read_sql('SELECT COUNT(*) AS total_orders FROM fct_order', con=engine)\n",
    "    print(result_df)    \n",
    "except Exception as e:  \n",
    "    print(f\"Error during data retrieval: {e}\")"
   ]
  },
  {
   "cell_type": "markdown",
   "metadata": {},
   "source": [
    "8.\tFind the total gmv_amount_lc for all orders.\n"
   ]
  },
  {
   "cell_type": "code",
   "execution_count": 13,
   "metadata": {},
   "outputs": [
    {
     "name": "stdout",
     "output_type": "stream",
     "text": [
      "   total_gmv_amount_lc\n",
      "0         1.640077e+07\n"
     ]
    }
   ],
   "source": [
    "try:\n",
    "    result_df = pd.read_sql('SELECT SUM(gmv_amount_lc) AS total_gmv_amount_lc FROM fct_order', con=engine)\n",
    "    print(result_df)\n",
    "except Exception as e:\n",
    "    print(f\"Error during data retrieval: {e}\")"
   ]
  },
  {
   "cell_type": "markdown",
   "metadata": {},
   "source": [
    "9.\tRetrieve orders placed on a specific date (e.g., '2024-01-01').\n"
   ]
  },
  {
   "cell_type": "code",
   "execution_count": 14,
   "metadata": {},
   "outputs": [
    {
     "name": "stdout",
     "output_type": "stream",
     "text": [
      "      order_id          order_time  vendor_id    analytical_customer_id  \\\n",
      "0    544145594 2021-09-01 10:41:53     609508  6zWSp9yqnEQuq4N6ykRgbbdQ   \n",
      "1    544478492 2021-09-01 18:17:52     602440  TtmFFw26sQR26nBE2RykhxQA   \n",
      "2    544358032 2021-09-01 15:56:56     709071  7pB4MC2aBPRdajLH2wPvIvAA   \n",
      "3    544366924 2021-09-01 16:09:09     607670  AFedsf0e-lSZer_X0eR4VE-g   \n",
      "4    544372362 2021-09-01 16:16:32     616421  JDYqF36aULSEaWsz604DuuRw   \n",
      "..         ...                 ...        ...                       ...   \n",
      "967  544445342 2021-09-01 17:44:15     606649  o2Q8Sv8uA_Sluil98uQ5OyTg   \n",
      "968  544330639 2021-09-01 15:19:31     608084  YhrWKwcqSVRGqasFc0NUzofQ   \n",
      "969  544444518 2021-09-01 17:43:21     751762  c2YPpC--01Sy-74n-B2qm4HA   \n",
      "970  544717158 2021-09-01 22:37:23     728726  y2uB6zqanFQiazcTqsP38csg   \n",
      "971  544691549 2021-09-01 21:58:35     707198  TpKaU5FiYdTLiIm7FjsRM7AA   \n",
      "\n",
      "     is_acquisition  is_successful reason sub_reason owner  \\\n",
      "0                 0              1   None       None  None   \n",
      "1                 0              1   None       None  None   \n",
      "2                 0              1   None       None  None   \n",
      "3                 0              1   None       None  None   \n",
      "4                 0              1   None       None  None   \n",
      "..              ...            ...    ...        ...   ...   \n",
      "967               0              1   None       None  None   \n",
      "968               0              1   None       None  None   \n",
      "969               0              1   None       None  None   \n",
      "970               0              1   None       None  None   \n",
      "971               1              1   None       None  None   \n",
      "\n",
      "    delivery_arrangement  ...  is_affordable_freedelivery  is_affordable_item  \\\n",
      "0                    TGO  ...                           0                   0   \n",
      "1                    TGO  ...                           0                   0   \n",
      "2                    TGO  ...                           0                   0   \n",
      "3                    TGO  ...                           0                   0   \n",
      "4                    TGO  ...                           0                   0   \n",
      "..                   ...  ...                         ...                 ...   \n",
      "967                  TMP  ...                           0                   0   \n",
      "968                  TMP  ...                           1                   0   \n",
      "969                  TMP  ...                           0                   0   \n",
      "970                  TMP  ...                           0                   0   \n",
      "971                  TMP  ...                           0                   0   \n",
      "\n",
      "     is_affordable_gem is_affordable_restaurant  is_affordable_voucher  \\\n",
      "0                    0                        0                      0   \n",
      "1                    0                        0                      0   \n",
      "2                    0                        0                      0   \n",
      "3                    0                        0                      0   \n",
      "4                    0                        0                      0   \n",
      "..                 ...                      ...                    ...   \n",
      "967                  0                        0                      0   \n",
      "968                  0                        0                      0   \n",
      "969                  0                        0                      0   \n",
      "970                  0                        0                      0   \n",
      "971                  0                        0                      0   \n",
      "\n",
      "     is_affordable  affordability_amt_total  City Cluster   City  \\\n",
      "0                0                      NaN         Cairo  Cairo   \n",
      "1                0                      NaN         Cairo  Cairo   \n",
      "2                0                      NaN         Cairo  Cairo   \n",
      "3                0                      NaN         Cairo  Cairo   \n",
      "4                0                      NaN         Cairo  Cairo   \n",
      "..             ...                      ...           ...    ...   \n",
      "967              0                      NaN         Cairo  Cairo   \n",
      "968              1                      NaN         Cairo  Cairo   \n",
      "969              0                      NaN         Cairo  Cairo   \n",
      "970              0                      NaN         Cairo  Cairo   \n",
      "971              0                      NaN         Cairo  Cairo   \n",
      "\n",
      "                  Zone  \n",
      "0          Mohandiseen  \n",
      "1    Cairo_city_centre  \n",
      "2       Tagamoa 5 east  \n",
      "3    Cairo_city_centre  \n",
      "4                Maadi  \n",
      "..                 ...  \n",
      "967        Mohandiseen  \n",
      "968   Hadayek el qobba  \n",
      "969         Heliopolis  \n",
      "970     Tagamoa 5 east  \n",
      "971          Ain shams  \n",
      "\n",
      "[972 rows x 31 columns]\n"
     ]
    }
   ],
   "source": [
    "try:\n",
    "    result_df = pd.read_sql(\"SELECT * FROM fct_order WHERE DATE(order_time) = '2021-09-01'\", con=engine)\n",
    "    print(result_df)\n",
    "except Exception as e:\n",
    "    print(f\"Error during data retrieval: {e}\")"
   ]
  },
  {
   "cell_type": "markdown",
   "metadata": {},
   "source": [
    "10.\tRetrieve all columns for orders with delivery_fee_amount_lc greater than 10.\n"
   ]
  },
  {
   "cell_type": "code",
   "execution_count": 15,
   "metadata": {},
   "outputs": [
    {
     "name": "stdout",
     "output_type": "stream",
     "text": [
      "        order_id          order_time  vendor_id    analytical_customer_id  \\\n",
      "0      544145594 2021-09-01 10:41:53     609508  6zWSp9yqnEQuq4N6ykRgbbdQ   \n",
      "1      544372362 2021-09-01 16:16:32     616421  JDYqF36aULSEaWsz604DuuRw   \n",
      "2      544150522 2021-09-01 10:51:28     614199  7JA09h4C9NTbCYXV4EFncRWQ   \n",
      "3      544809110 2021-09-02 03:13:46     724709  73VUjXL6VxS165NfLgMwXQTg   \n",
      "4      547094922 2021-09-04 21:25:32     603097  tkNv4QyKJrRrKREAypvbDDlw   \n",
      "...          ...                 ...        ...                       ...   \n",
      "58419  642783788 2022-01-01 09:50:45     604427  _B1YUyVOo-RLOoFMVCiTi-DQ   \n",
      "58420  642718374 2022-01-01 03:24:56     607605  yTrHLDAuhuScuiCHABzNUdWA   \n",
      "58421  642739962 2022-01-01 06:58:07     603674  jWIm4qj6vORl6B1ejy0EImDQ   \n",
      "58422  643440356 2022-01-01 23:00:07     602778  RiSAcy9SUKT5SU_k9rWqVeug   \n",
      "58423  643105834 2022-01-01 17:01:47     602795  3zGv03US8BT-SpBHUAKVWmDQ   \n",
      "\n",
      "       is_acquisition  is_successful reason sub_reason owner  \\\n",
      "0                   0              1   None       None  None   \n",
      "1                   0              1   None       None  None   \n",
      "2                   0              1   None       None  None   \n",
      "3                   0              1   None       None  None   \n",
      "4                   0              1   None       None  None   \n",
      "...               ...            ...    ...        ...   ...   \n",
      "58419               1              1   None       None  None   \n",
      "58420               0              1   None       None  None   \n",
      "58421               0              1   None       None  None   \n",
      "58422               0              1   None       None  None   \n",
      "58423               1              1   None       None  None   \n",
      "\n",
      "      delivery_arrangement  ...  is_affordable_freedelivery  \\\n",
      "0                      TGO  ...                           0   \n",
      "1                      TGO  ...                           0   \n",
      "2                      TGO  ...                           0   \n",
      "3                      TGO  ...                           0   \n",
      "4                      TGO  ...                           0   \n",
      "...                    ...  ...                         ...   \n",
      "58419                  TMP  ...                           0   \n",
      "58420                  TMP  ...                           0   \n",
      "58421                  TMP  ...                           0   \n",
      "58422                  TMP  ...                           0   \n",
      "58423                  TMP  ...                           0   \n",
      "\n",
      "       is_affordable_item  is_affordable_gem is_affordable_restaurant  \\\n",
      "0                       0                  0                        0   \n",
      "1                       0                  0                        0   \n",
      "2                       0                  0                        0   \n",
      "3                       1                  0                        0   \n",
      "4                       0                  0                        0   \n",
      "...                   ...                ...                      ...   \n",
      "58419                   0                  0                        0   \n",
      "58420                   0                  0                        0   \n",
      "58421                   0                  0                        0   \n",
      "58422                   0                  0                        0   \n",
      "58423                   0                  0                        0   \n",
      "\n",
      "       is_affordable_voucher  is_affordable  affordability_amt_total  \\\n",
      "0                          0              0                      NaN   \n",
      "1                          0              0                      NaN   \n",
      "2                          0              0                      NaN   \n",
      "3                          0              1                     6.75   \n",
      "4                          0              0                      NaN   \n",
      "...                      ...            ...                      ...   \n",
      "58419                      0              0                      NaN   \n",
      "58420                      0              0                      NaN   \n",
      "58421                      0              0                      NaN   \n",
      "58422                      0              0                      NaN   \n",
      "58423                      0              0                      NaN   \n",
      "\n",
      "       City Cluster        City                  Zone  \n",
      "0             Cairo       Cairo           Mohandiseen  \n",
      "1             Cairo       Cairo                 Maadi  \n",
      "2             Cairo       Cairo     Cairo_city_centre  \n",
      "3             Cairo       Cairo               October  \n",
      "4             Cairo       Cairo  Manial and bahr azam  \n",
      "...             ...         ...                   ...  \n",
      "58419         Cairo       Cairo      Hadayek el qobba  \n",
      "58420         Cairo       Cairo            Heliopolis  \n",
      "58421         Cairo       Cairo            Tagammoa 5  \n",
      "58422          Alex  Alexandria       Alexandria west  \n",
      "58423         Cairo       Cairo                Helwan  \n",
      "\n",
      "[58424 rows x 31 columns]\n"
     ]
    }
   ],
   "source": [
    "try:\n",
    "    result_df = pd.read_sql('SELECT * FROM fct_order WHERE delivery_fee_amount_lc > 10', con=engine)\n",
    "    print(result_df)\n",
    "except Exception as e:\n",
    "    print(f\"Error during data retrieval: {e}\")"
   ]
  },
  {
   "cell_type": "markdown",
   "metadata": {},
   "source": [
    "11.\tFind the earliest and latest order_time in the dataset.\n"
   ]
  },
  {
   "cell_type": "code",
   "execution_count": 16,
   "metadata": {},
   "outputs": [
    {
     "name": "stdout",
     "output_type": "stream",
     "text": [
      "  earliest_order_time   latest_order_time\n",
      "0 2021-09-01 00:00:51 2022-01-02 23:59:45\n"
     ]
    }
   ],
   "source": [
    "try:\n",
    "    result_df = pd.read_sql('SELECT MIN(order_time) AS earliest_order_time, MAX(order_time) AS latest_order_time FROM fct_order', con=engine)\n",
    "    print(result_df)\n",
    "except Exception as e:\n",
    "    print(f\"Error during data retrieval: {e}\")"
   ]
  },
  {
   "cell_type": "markdown",
   "metadata": {},
   "source": [
    "12.\tRetrieve all orders with basket_amount_lc between 20 and 50.\n"
   ]
  },
  {
   "cell_type": "code",
   "execution_count": 17,
   "metadata": {},
   "outputs": [
    {
     "name": "stdout",
     "output_type": "stream",
     "text": [
      "        order_id          order_time  vendor_id    analytical_customer_id  \\\n",
      "0      545427867 2021-09-02 20:36:51     750010  Hr0-7I36JmSL62gZ3PrBeQpQ   \n",
      "1      547226043 2021-09-05 01:54:58     718588  gcIp8W7i3mQ8i5Fj7-OnRGtA   \n",
      "2      547770271 2021-09-05 19:55:59     753819  8s0Km1w27AQJ238Dw1Vu4w9g   \n",
      "3      545448312 2021-09-02 20:57:09     733347  VUquePk20XRZ2okvk1r2B1NA   \n",
      "4      546603375 2021-09-04 11:48:23     734798  2O7-Z2JeLESweHKSJ90ZWSPw   \n",
      "...          ...                 ...        ...                       ...   \n",
      "17430  641838705 2021-12-31 03:20:26     716565  OgDLFoLGfhRbG0I9LOf_Qjgg   \n",
      "17431  642553038 2021-12-31 21:35:34     614209  JC9uzQJ247Tf2LwmJSBwIJhw   \n",
      "17432  642200137 2021-12-31 16:01:18     605480  atkuORuqPDT0q-TFuCAxKR7g   \n",
      "17433  643908824 2022-01-02 16:41:43     614946  8IFIIvPikcQ7iEGKPrnbQBfw   \n",
      "17434  644131701 2022-01-02 20:01:24     614941  T0qI4TWyuUQMyiBhWA1sGcRw   \n",
      "\n",
      "       is_acquisition  is_successful                   reason sub_reason  \\\n",
      "0                   0              1                     None       None   \n",
      "1                   0              1                     None       None   \n",
      "2                   0              1                     None       None   \n",
      "3                   0              0  UNABLE_TO_FIND_CUSTOMER       None   \n",
      "4                   0              0            LATE_DELIVERY       None   \n",
      "...               ...            ...                      ...        ...   \n",
      "17430               0              1                     None       None   \n",
      "17431               0              1                     None       None   \n",
      "17432               0              1                     None       None   \n",
      "17433               0              1                     None       None   \n",
      "17434               0              1                     None       None   \n",
      "\n",
      "           owner delivery_arrangement  ...  is_affordable_freedelivery  \\\n",
      "0           None                  TGO  ...                           0   \n",
      "1           None                  TGO  ...                           0   \n",
      "2           None                  TGO  ...                           0   \n",
      "3       CUSTOMER                  TGO  ...                           0   \n",
      "4      TRANSPORT                  TGO  ...                           0   \n",
      "...          ...                  ...  ...                         ...   \n",
      "17430       None                  TMP  ...                           0   \n",
      "17431       None                  TMP  ...                           0   \n",
      "17432       None                  TMP  ...                           0   \n",
      "17433       None                  TMP  ...                           0   \n",
      "17434       None                  TMP  ...                           0   \n",
      "\n",
      "       is_affordable_item  is_affordable_gem is_affordable_restaurant  \\\n",
      "0                       0                  0                        0   \n",
      "1                       1                  0                        0   \n",
      "2                       0                  0                        0   \n",
      "3                       0                  0                        0   \n",
      "4                       0                  0                        0   \n",
      "...                   ...                ...                      ...   \n",
      "17430                   0                  0                        0   \n",
      "17431                   1                  0                        0   \n",
      "17432                   0                  0                        0   \n",
      "17433                   0                  0                        0   \n",
      "17434                   0                  0                        0   \n",
      "\n",
      "       is_affordable_voucher  is_affordable  affordability_amt_total  \\\n",
      "0                          0              0                      NaN   \n",
      "1                          0              1                     15.0   \n",
      "2                          0              0                      NaN   \n",
      "3                          0              0                      NaN   \n",
      "4                          0              0                      NaN   \n",
      "...                      ...            ...                      ...   \n",
      "17430                      0              0                      NaN   \n",
      "17431                      0              1                     25.0   \n",
      "17432                      0              0                      NaN   \n",
      "17433                      0              0                      NaN   \n",
      "17434                      0              0                      NaN   \n",
      "\n",
      "       City Cluster        City               Zone  \n",
      "0             Cairo       Cairo   Hadayek el ahram  \n",
      "1             Cairo       Cairo            October  \n",
      "2             Cairo       Cairo  Cairo_city_centre  \n",
      "3             Delta    Mansoura           Mansoura  \n",
      "4              Alex  Alexandria    Alexandria west  \n",
      "...             ...         ...                ...  \n",
      "17430         Cairo       Cairo               Giza  \n",
      "17431         Cairo       Cairo           Madinaty  \n",
      "17432         Cairo       Cairo  Cairo_city_centre  \n",
      "17433         Cairo       Cairo          Nasr city  \n",
      "17434         Cairo       Cairo          Nasr city  \n",
      "\n",
      "[17435 rows x 31 columns]\n"
     ]
    }
   ],
   "source": [
    "try:\n",
    "    result_df = pd.read_sql('SELECT * FROM fct_order WHERE basket_amount_lc BETWEEN 20 AND 50', con=engine)\n",
    "    print(result_df)\n",
    "except Exception as e:\n",
    "    print(f\"Error during data retrieval: {e}\")"
   ]
  },
  {
   "cell_type": "markdown",
   "metadata": {},
   "source": [
    "13.\tSelect orders where the Payment Method is \"Credit Card\".\n"
   ]
  },
  {
   "cell_type": "code",
   "execution_count": 18,
   "metadata": {},
   "outputs": [
    {
     "name": "stdout",
     "output_type": "stream",
     "text": [
      "        order_id          order_time  vendor_id    analytical_customer_id  \\\n",
      "0      544372362 2021-09-01 16:16:32     616421  JDYqF36aULSEaWsz604DuuRw   \n",
      "1      544467338 2021-09-01 18:06:40     735754  uJkW3IHmcxT5m8qhHNHLfIpg   \n",
      "2      546626791 2021-09-04 12:22:37     716313  jKhdnvpKjpT5KHA0pFFasAEA   \n",
      "3      546814263 2021-09-04 16:37:59     716352  6fbQDdiqt9QzqEDXic3mmAXQ   \n",
      "4      547224498 2021-09-05 01:47:58     716314  1LO7zS9iz4QZiXXY9NyGJ5BA   \n",
      "...          ...                 ...        ...                       ...   \n",
      "28720  643996300 2022-01-02 18:02:49     616641  DYxcR1FKRxS3KlobFn1qkYRQ   \n",
      "28721  644081350 2022-01-02 19:16:30     615575  2gx2RkxiKBRci41gx5Ifyh-A   \n",
      "28722  643726942 2022-01-02 13:07:29     616563  rPGYmwMWoDTdW_TGMbJp1oMg   \n",
      "28723  643675067 2022-01-02 11:59:58     756977  JI1jvA2WMTSAW36d2qbvGEpQ   \n",
      "28724  644271677 2022-01-02 22:38:36     615574  C4-ATkc2O0Tv2gVxcwKSc_6w   \n",
      "\n",
      "       is_acquisition  is_successful                  reason  \\\n",
      "0                   0              1                    None   \n",
      "1                   0              1                    None   \n",
      "2                   0              1                    None   \n",
      "3                   0              1                    None   \n",
      "4                   0              1                    None   \n",
      "...               ...            ...                     ...   \n",
      "28720               0              0        ITEM_UNAVAILABLE   \n",
      "28721               0              0         VENDOR_TOO_BUSY   \n",
      "28722               0              0  CUSTOMER_MISTAKE_ERROR   \n",
      "28723               0              0        ITEM_UNAVAILABLE   \n",
      "28724               0              0      VENDOR_NO_RESPONSE   \n",
      "\n",
      "                                          sub_reason     owner  \\\n",
      "0                                               None      None   \n",
      "1                                               None      None   \n",
      "2                                               None      None   \n",
      "3                                               None      None   \n",
      "4                                               None      None   \n",
      "...                                              ...       ...   \n",
      "28720                                           None    VENDOR   \n",
      "28721                                           None    VENDOR   \n",
      "28722  Canceled by Customer - Before vendor accepted  CUSTOMER   \n",
      "28723                                           None    VENDOR   \n",
      "28724                                           None    VENDOR   \n",
      "\n",
      "      delivery_arrangement  ...  is_affordable_freedelivery  \\\n",
      "0                      TGO  ...                           0   \n",
      "1                      TGO  ...                           0   \n",
      "2                      TGO  ...                           0   \n",
      "3                      TGO  ...                           0   \n",
      "4                      TGO  ...                           0   \n",
      "...                    ...  ...                         ...   \n",
      "28720                  TGO  ...                           0   \n",
      "28721                  TGO  ...                           0   \n",
      "28722                  TGO  ...                           0   \n",
      "28723                  TGO  ...                           0   \n",
      "28724                  TGO  ...                           0   \n",
      "\n",
      "       is_affordable_item  is_affordable_gem is_affordable_restaurant  \\\n",
      "0                       0                  0                        0   \n",
      "1                       1                  0                        0   \n",
      "2                       0                  0                        0   \n",
      "3                       0                  0                        0   \n",
      "4                       0                  0                        0   \n",
      "...                   ...                ...                      ...   \n",
      "28720                   0                  0                        0   \n",
      "28721                   0                  0                        0   \n",
      "28722                   0                  0                        0   \n",
      "28723                   0                  0                        0   \n",
      "28724                   0                  0                        0   \n",
      "\n",
      "       is_affordable_voucher  is_affordable  affordability_amt_total  \\\n",
      "0                          0              0                      NaN   \n",
      "1                          0              1                     38.0   \n",
      "2                          0              0                      NaN   \n",
      "3                          0              0                      NaN   \n",
      "4                          0              0                      NaN   \n",
      "...                      ...            ...                      ...   \n",
      "28720                      0              0                      NaN   \n",
      "28721                      0              0                      NaN   \n",
      "28722                      0              0                      NaN   \n",
      "28723                      0              0                      NaN   \n",
      "28724                      0              0                      NaN   \n",
      "\n",
      "       City Cluster   City           Zone  \n",
      "0             Cairo  Cairo          Maadi  \n",
      "1             Cairo  Cairo          Maadi  \n",
      "2             Cairo  Cairo  El rehab city  \n",
      "3             Cairo  Cairo     Tagammoa 5  \n",
      "4             Cairo  Cairo   Sheikh zayed  \n",
      "...             ...    ...            ...  \n",
      "28720         Cairo  Cairo     Tagammoa 5  \n",
      "28721         Cairo  Cairo   Sheikh zayed  \n",
      "28722         Cairo  Cairo          Maadi  \n",
      "28723         Cairo  Cairo          Maadi  \n",
      "28724         Cairo  Cairo     Tagammoa 5  \n",
      "\n",
      "[28725 rows x 31 columns]\n"
     ]
    }
   ],
   "source": [
    "try:\n",
    "    # Use backticks to enclose column name with spaces\n",
    "    result_df = pd.read_sql(\"SELECT * FROM fct_order WHERE `Payment Method` = 'Online - Card'\", con=engine)\n",
    "    print(result_df)\n",
    "except Exception as e:\n",
    "    print(f\"Error during data retrieval: {e}\")"
   ]
  },
  {
   "cell_type": "markdown",
   "metadata": {},
   "source": [
    "14.\tCount the total number of unique vendors in the fct_order table.\n"
   ]
  },
  {
   "cell_type": "code",
   "execution_count": 19,
   "metadata": {},
   "outputs": [
    {
     "name": "stdout",
     "output_type": "stream",
     "text": [
      "   total_unique_vendors\n",
      "0                  6178\n"
     ]
    }
   ],
   "source": [
    "try:\n",
    "    result_df = pd.read_sql('SELECT COUNT(DISTINCT vendor_id) AS total_unique_vendors FROM fct_order', con=engine)\n",
    "    print(result_df)\n",
    "except Exception as e:\n",
    "    print(f\"Error during data retrieval: {e}\")\n"
   ]
  },
  {
   "cell_type": "markdown",
   "metadata": {},
   "source": [
    "15.\tRetrieve the names of vendors from dim_vendor whose main_cuisine is 'Pizza'.\n"
   ]
  },
  {
   "cell_type": "code",
   "execution_count": 20,
   "metadata": {},
   "outputs": [
    {
     "name": "stdout",
     "output_type": "stream",
     "text": [
      "                                               name_en\n",
      "0    Cando's Pizza & Coffee, Freshly Made, 6th of O...\n",
      "1            Italiano Pizza, Hadayek El Ahram - Area B\n",
      "2            Pizza Roma 3, 45 Street - Izbat El Amrawy\n",
      "3                Rozan Pizza,Hadayek El Ahram - Area د\n",
      "4                            Pizza Queen - San Stefano\n",
      "..                                                 ...\n",
      "608  Ted`s Pizzeria, AlMaza Airport Almaza,AlMaza A...\n",
      "609       Ted's Pizzeria, Tagammoa 5 - North Investors\n",
      "610                  Hola, 6th of October - West Somed\n",
      "611                                   Fave, Al Kawmeya\n",
      "612                            Don Carlo, Raml Station\n",
      "\n",
      "[613 rows x 1 columns]\n"
     ]
    }
   ],
   "source": [
    "try:\n",
    "    result_df = pd.read_sql(\"SELECT name_en FROM dim_vendor WHERE main_cuisine = 'Pizza'\", con=engine)\n",
    "    print(result_df)\n",
    "except Exception as e:\n",
    "    print(f\"Error during data retrieval: {e}\")"
   ]
  },
  {
   "cell_type": "markdown",
   "metadata": {},
   "source": [
    "16.\tFind the average order_delay for all orders.\n"
   ]
  },
  {
   "cell_type": "code",
   "execution_count": 21,
   "metadata": {},
   "outputs": [
    {
     "name": "stdout",
     "output_type": "stream",
     "text": [
      "   average_order_delay\n",
      "0           -181.67232\n"
     ]
    }
   ],
   "source": [
    "try:\n",
    "    result_df = pd.read_sql('SELECT AVG(order_delay) AS average_order_delay FROM fct_order', con=engine)\n",
    "    print(result_df)\n",
    "except Exception as e:\n",
    "    print(f\"Error during data retrieval: {e}\")"
   ]
  },
  {
   "cell_type": "markdown",
   "metadata": {},
   "source": [
    "17.\tRetrieve all columns for orders where City is 'Cairo'.\n"
   ]
  },
  {
   "cell_type": "code",
   "execution_count": 22,
   "metadata": {},
   "outputs": [
    {
     "name": "stdout",
     "output_type": "stream",
     "text": [
      "        order_id          order_time  vendor_id    analytical_customer_id  \\\n",
      "0      544145594 2021-09-01 10:41:53     609508  6zWSp9yqnEQuq4N6ykRgbbdQ   \n",
      "1      544478492 2021-09-01 18:17:52     602440  TtmFFw26sQR26nBE2RykhxQA   \n",
      "2      544358032 2021-09-01 15:56:56     709071  7pB4MC2aBPRdajLH2wPvIvAA   \n",
      "3      544366924 2021-09-01 16:09:09     607670  AFedsf0e-lSZer_X0eR4VE-g   \n",
      "4      544372362 2021-09-01 16:16:32     616421  JDYqF36aULSEaWsz604DuuRw   \n",
      "...          ...                 ...        ...                       ...   \n",
      "83827  643006405 2022-01-01 15:07:20     748065  MkKcitJe3YREeltsJI7DUXqA   \n",
      "83828  642783788 2022-01-01 09:50:45     604427  _B1YUyVOo-RLOoFMVCiTi-DQ   \n",
      "83829  642718374 2022-01-01 03:24:56     607605  yTrHLDAuhuScuiCHABzNUdWA   \n",
      "83830  642739962 2022-01-01 06:58:07     603674  jWIm4qj6vORl6B1ejy0EImDQ   \n",
      "83831  643105834 2022-01-01 17:01:47     602795  3zGv03US8BT-SpBHUAKVWmDQ   \n",
      "\n",
      "       is_acquisition  is_successful reason sub_reason owner  \\\n",
      "0                   0              1   None       None  None   \n",
      "1                   0              1   None       None  None   \n",
      "2                   0              1   None       None  None   \n",
      "3                   0              1   None       None  None   \n",
      "4                   0              1   None       None  None   \n",
      "...               ...            ...    ...        ...   ...   \n",
      "83827               0              1   None       None  None   \n",
      "83828               1              1   None       None  None   \n",
      "83829               0              1   None       None  None   \n",
      "83830               0              1   None       None  None   \n",
      "83831               1              1   None       None  None   \n",
      "\n",
      "      delivery_arrangement  ...  is_affordable_freedelivery  \\\n",
      "0                      TGO  ...                           0   \n",
      "1                      TGO  ...                           0   \n",
      "2                      TGO  ...                           0   \n",
      "3                      TGO  ...                           0   \n",
      "4                      TGO  ...                           0   \n",
      "...                    ...  ...                         ...   \n",
      "83827                  TMP  ...                           0   \n",
      "83828                  TMP  ...                           0   \n",
      "83829                  TMP  ...                           0   \n",
      "83830                  TMP  ...                           0   \n",
      "83831                  TMP  ...                           0   \n",
      "\n",
      "       is_affordable_item  is_affordable_gem is_affordable_restaurant  \\\n",
      "0                       0                  0                        0   \n",
      "1                       0                  0                        0   \n",
      "2                       0                  0                        0   \n",
      "3                       0                  0                        0   \n",
      "4                       0                  0                        0   \n",
      "...                   ...                ...                      ...   \n",
      "83827                   1                  0                        0   \n",
      "83828                   0                  0                        0   \n",
      "83829                   0                  0                        0   \n",
      "83830                   0                  0                        0   \n",
      "83831                   0                  0                        0   \n",
      "\n",
      "       is_affordable_voucher  is_affordable  affordability_amt_total  \\\n",
      "0                          0              0                      NaN   \n",
      "1                          0              0                      NaN   \n",
      "2                          0              0                      NaN   \n",
      "3                          0              0                      NaN   \n",
      "4                          0              0                      NaN   \n",
      "...                      ...            ...                      ...   \n",
      "83827                      0              1                     69.0   \n",
      "83828                      0              0                      NaN   \n",
      "83829                      0              0                      NaN   \n",
      "83830                      0              0                      NaN   \n",
      "83831                      0              0                      NaN   \n",
      "\n",
      "       City Cluster   City               Zone  \n",
      "0             Cairo  Cairo        Mohandiseen  \n",
      "1             Cairo  Cairo  Cairo_city_centre  \n",
      "2             Cairo  Cairo     Tagamoa 5 east  \n",
      "3             Cairo  Cairo  Cairo_city_centre  \n",
      "4             Cairo  Cairo              Maadi  \n",
      "...             ...    ...                ...  \n",
      "83827         Cairo  Cairo            October  \n",
      "83828         Cairo  Cairo   Hadayek el qobba  \n",
      "83829         Cairo  Cairo         Heliopolis  \n",
      "83830         Cairo  Cairo         Tagammoa 5  \n",
      "83831         Cairo  Cairo             Helwan  \n",
      "\n",
      "[83832 rows x 31 columns]\n"
     ]
    }
   ],
   "source": [
    "try:\n",
    "    result_df = pd.read_sql(\"SELECT * FROM fct_order WHERE city = 'Cairo'\", con=engine)\n",
    "    print(result_df)\n",
    "except Exception as e:\n",
    "    print(f\"Error during data retrieval: {e}\")"
   ]
  },
  {
   "cell_type": "markdown",
   "metadata": {},
   "source": [
    "18.\tList the top 5 most recent orders based on order_time.\n"
   ]
  },
  {
   "cell_type": "code",
   "execution_count": 23,
   "metadata": {},
   "outputs": [
    {
     "name": "stdout",
     "output_type": "stream",
     "text": [
      "    order_id          order_time  vendor_id    analytical_customer_id  \\\n",
      "0  644316835 2022-01-02 23:59:45     733019  no7BPkiah_Q6aFLZi2ugR4kQ   \n",
      "1  644316064 2022-01-02 23:58:07     715815  iI6rRPz2LkRi2Ct0zTaksrOA   \n",
      "2  644316048 2022-01-02 23:58:05     609342  COnO0tda5iSTa-t5dFFVTpwg   \n",
      "3  644315682 2022-01-02 23:57:25     614594  AYeFPGmOUyT4OIWfmTSCYikw   \n",
      "4  644315564 2022-01-02 23:57:08     732284  xdSbyNHiYORwiK2AHYieL5UQ   \n",
      "\n",
      "   is_acquisition  is_successful                  reason  \\\n",
      "0               0              1                    None   \n",
      "1               0              1                    None   \n",
      "2               0              0          ONLINE_PAYMENT   \n",
      "3               0              1                    None   \n",
      "4               0              0  CUSTOMER_MISTAKE_ERROR   \n",
      "\n",
      "                       sub_reason              owner delivery_arrangement  \\\n",
      "0                            None               None                  TGO   \n",
      "1                            None               None                  TGO   \n",
      "2                            None  CUSTOMER/PLATFORM                  TGO   \n",
      "3                            None               None                  TGO   \n",
      "4  Changed mind - Mistake / Error           CUSTOMER                  TGO   \n",
      "\n",
      "   ...  is_affordable_freedelivery  is_affordable_item  is_affordable_gem  \\\n",
      "0  ...                           0                   0                  0   \n",
      "1  ...                           0                   0                  0   \n",
      "2  ...                           0                   0                  0   \n",
      "3  ...                           0                   0                  0   \n",
      "4  ...                           0                   0                  0   \n",
      "\n",
      "  is_affordable_restaurant  is_affordable_voucher  is_affordable  \\\n",
      "0                        0                      0              0   \n",
      "1                        0                      0              0   \n",
      "2                        0                      0              0   \n",
      "3                        0                      0              0   \n",
      "4                        0                      0              0   \n",
      "\n",
      "   affordability_amt_total  City Cluster      City      Zone  \n",
      "0                     None         Delta     Tanta     Tanta  \n",
      "1                     None         Cairo     Cairo  Mokattam  \n",
      "2                     None         Cairo     Cairo   October  \n",
      "3                     None         Delta  Mansoura  Mansoura  \n",
      "4                     None         Cairo     Cairo   October  \n",
      "\n",
      "[5 rows x 31 columns]\n"
     ]
    }
   ],
   "source": [
    "try:\n",
    "    result_df = pd.read_sql('SELECT * FROM fct_order ORDER BY order_time DESC LIMIT 5', con=engine)\n",
    "    print(result_df)\n",
    "except Exception as e:\n",
    "    print(f\"Error during data retrieval: {e}\")"
   ]
  },
  {
   "cell_type": "markdown",
   "metadata": {},
   "source": [
    "19.\tFind orders with a dropoff_distance_manhattan greater than 5 km.\n"
   ]
  },
  {
   "cell_type": "code",
   "execution_count": 24,
   "metadata": {},
   "outputs": [
    {
     "name": "stdout",
     "output_type": "stream",
     "text": [
      "Orders with dropoff_distance_manhattan greater than 5 km:\n",
      "        order_id          order_time  vendor_id    analytical_customer_id  \\\n",
      "0      544145594 2021-09-01 10:41:53     609508  6zWSp9yqnEQuq4N6ykRgbbdQ   \n",
      "1      544478492 2021-09-01 18:17:52     602440  TtmFFw26sQR26nBE2RykhxQA   \n",
      "2      544358032 2021-09-01 15:56:56     709071  7pB4MC2aBPRdajLH2wPvIvAA   \n",
      "3      544366924 2021-09-01 16:09:09     607670  AFedsf0e-lSZer_X0eR4VE-g   \n",
      "4      544372362 2021-09-01 16:16:32     616421  JDYqF36aULSEaWsz604DuuRw   \n",
      "...          ...                 ...        ...                       ...   \n",
      "78253  644157626 2022-01-02 20:25:40     604899  QIAI_cMeM7Q3e50ZMq3FCptg   \n",
      "78254  643919264 2022-01-02 16:51:52     720260  r2CS00vmhrT0mDfdv-IYZU7w   \n",
      "78255  643523467 2022-01-02 02:35:57     740948  3Auj2_auGuS-uJ8TaPCKhaDA   \n",
      "78256  644245786 2022-01-02 22:02:53     724987  tVJ6VgNuvkRjuNU6NqEQ-Npg   \n",
      "78257  644278022 2022-01-02 22:48:27     755827  zurWapd20tR92D2Gdio2WLKA   \n",
      "\n",
      "       is_acquisition  is_successful reason sub_reason owner  \\\n",
      "0                   0              1   None       None  None   \n",
      "1                   0              1   None       None  None   \n",
      "2                   0              1   None       None  None   \n",
      "3                   0              1   None       None  None   \n",
      "4                   0              1   None       None  None   \n",
      "...               ...            ...    ...        ...   ...   \n",
      "78253               0              1   None       None  None   \n",
      "78254               0              1   None       None  None   \n",
      "78255               0              1   None       None  None   \n",
      "78256               0              1   None       None  None   \n",
      "78257               0              1   None       None  None   \n",
      "\n",
      "      delivery_arrangement  ...  is_affordable_freedelivery  \\\n",
      "0                      TGO  ...                           0   \n",
      "1                      TGO  ...                           0   \n",
      "2                      TGO  ...                           0   \n",
      "3                      TGO  ...                           0   \n",
      "4                      TGO  ...                           0   \n",
      "...                    ...  ...                         ...   \n",
      "78253                  TGO  ...                           0   \n",
      "78254                  TGO  ...                           0   \n",
      "78255                  TGO  ...                           0   \n",
      "78256                  TGO  ...                           0   \n",
      "78257                  TGO  ...                           0   \n",
      "\n",
      "       is_affordable_item  is_affordable_gem is_affordable_restaurant  \\\n",
      "0                       0                  0                        0   \n",
      "1                       0                  0                        0   \n",
      "2                       0                  0                        0   \n",
      "3                       0                  0                        0   \n",
      "4                       0                  0                        0   \n",
      "...                   ...                ...                      ...   \n",
      "78253                   0                  0                        0   \n",
      "78254                   0                  0                        0   \n",
      "78255                   0                  0                        0   \n",
      "78256                   0                  0                        0   \n",
      "78257                   0                  0                        0   \n",
      "\n",
      "       is_affordable_voucher  is_affordable  affordability_amt_total  \\\n",
      "0                          0              0                      NaN   \n",
      "1                          0              0                      NaN   \n",
      "2                          0              0                      NaN   \n",
      "3                          0              0                      NaN   \n",
      "4                          0              0                      NaN   \n",
      "...                      ...            ...                      ...   \n",
      "78253                      0              0                      NaN   \n",
      "78254                      0              0                      NaN   \n",
      "78255                      0              0                      NaN   \n",
      "78256                      0              0                      NaN   \n",
      "78257                      0              0                      NaN   \n",
      "\n",
      "       City Cluster        City               Zone  \n",
      "0             Cairo       Cairo        Mohandiseen  \n",
      "1             Cairo       Cairo  Cairo_city_centre  \n",
      "2             Cairo       Cairo     Tagamoa 5 east  \n",
      "3             Cairo       Cairo  Cairo_city_centre  \n",
      "4             Cairo       Cairo              Maadi  \n",
      "...             ...         ...                ...  \n",
      "78253         Delta     Zagazig            Zagazig  \n",
      "78254         Delta       Tanta              Tanta  \n",
      "78255          Alex  Alexandria    Alexandria west  \n",
      "78256         Delta       Tanta              Tanta  \n",
      "78257         Delta     Zagazig            Zagazig  \n",
      "\n",
      "[78258 rows x 31 columns]\n"
     ]
    }
   ],
   "source": [
    "try:\n",
    "    query = \"SELECT * FROM fct_order WHERE dropoff_distance_manhattan > 5\"\n",
    "    result_df = pd.read_sql(query, con=engine)\n",
    "    \n",
    "    print(\"Orders with dropoff_distance_manhattan greater than 5 km:\")\n",
    "    print(result_df)\n",
    "except Exception as e:\n",
    "    print(f\"Error during data retrieval: {e}\")\n"
   ]
  },
  {
   "cell_type": "markdown",
   "metadata": {},
   "source": [
    "20.\tSelect all vendors operating in a specific City Cluster (e.g., 'Cluster A').\n"
   ]
  },
  {
   "cell_type": "code",
   "execution_count": 25,
   "metadata": {},
   "outputs": [
    {
     "name": "stdout",
     "output_type": "stream",
     "text": [
      "        order_id          order_time  vendor_id    analytical_customer_id  \\\n",
      "0      544145594 2021-09-01 10:41:53     609508  6zWSp9yqnEQuq4N6ykRgbbdQ   \n",
      "1      544478492 2021-09-01 18:17:52     602440  TtmFFw26sQR26nBE2RykhxQA   \n",
      "2      544358032 2021-09-01 15:56:56     709071  7pB4MC2aBPRdajLH2wPvIvAA   \n",
      "3      544366924 2021-09-01 16:09:09     607670  AFedsf0e-lSZer_X0eR4VE-g   \n",
      "4      544372362 2021-09-01 16:16:32     616421  JDYqF36aULSEaWsz604DuuRw   \n",
      "...          ...                 ...        ...                       ...   \n",
      "83827  643006405 2022-01-01 15:07:20     748065  MkKcitJe3YREeltsJI7DUXqA   \n",
      "83828  642783788 2022-01-01 09:50:45     604427  _B1YUyVOo-RLOoFMVCiTi-DQ   \n",
      "83829  642718374 2022-01-01 03:24:56     607605  yTrHLDAuhuScuiCHABzNUdWA   \n",
      "83830  642739962 2022-01-01 06:58:07     603674  jWIm4qj6vORl6B1ejy0EImDQ   \n",
      "83831  643105834 2022-01-01 17:01:47     602795  3zGv03US8BT-SpBHUAKVWmDQ   \n",
      "\n",
      "       is_acquisition  is_successful reason sub_reason owner  \\\n",
      "0                   0              1   None       None  None   \n",
      "1                   0              1   None       None  None   \n",
      "2                   0              1   None       None  None   \n",
      "3                   0              1   None       None  None   \n",
      "4                   0              1   None       None  None   \n",
      "...               ...            ...    ...        ...   ...   \n",
      "83827               0              1   None       None  None   \n",
      "83828               1              1   None       None  None   \n",
      "83829               0              1   None       None  None   \n",
      "83830               0              1   None       None  None   \n",
      "83831               1              1   None       None  None   \n",
      "\n",
      "      delivery_arrangement  ...  is_affordable_freedelivery  \\\n",
      "0                      TGO  ...                           0   \n",
      "1                      TGO  ...                           0   \n",
      "2                      TGO  ...                           0   \n",
      "3                      TGO  ...                           0   \n",
      "4                      TGO  ...                           0   \n",
      "...                    ...  ...                         ...   \n",
      "83827                  TMP  ...                           0   \n",
      "83828                  TMP  ...                           0   \n",
      "83829                  TMP  ...                           0   \n",
      "83830                  TMP  ...                           0   \n",
      "83831                  TMP  ...                           0   \n",
      "\n",
      "       is_affordable_item  is_affordable_gem is_affordable_restaurant  \\\n",
      "0                       0                  0                        0   \n",
      "1                       0                  0                        0   \n",
      "2                       0                  0                        0   \n",
      "3                       0                  0                        0   \n",
      "4                       0                  0                        0   \n",
      "...                   ...                ...                      ...   \n",
      "83827                   1                  0                        0   \n",
      "83828                   0                  0                        0   \n",
      "83829                   0                  0                        0   \n",
      "83830                   0                  0                        0   \n",
      "83831                   0                  0                        0   \n",
      "\n",
      "       is_affordable_voucher  is_affordable  affordability_amt_total  \\\n",
      "0                          0              0                      NaN   \n",
      "1                          0              0                      NaN   \n",
      "2                          0              0                      NaN   \n",
      "3                          0              0                      NaN   \n",
      "4                          0              0                      NaN   \n",
      "...                      ...            ...                      ...   \n",
      "83827                      0              1                     69.0   \n",
      "83828                      0              0                      NaN   \n",
      "83829                      0              0                      NaN   \n",
      "83830                      0              0                      NaN   \n",
      "83831                      0              0                      NaN   \n",
      "\n",
      "       City Cluster   City               Zone  \n",
      "0             Cairo  Cairo        Mohandiseen  \n",
      "1             Cairo  Cairo  Cairo_city_centre  \n",
      "2             Cairo  Cairo     Tagamoa 5 east  \n",
      "3             Cairo  Cairo  Cairo_city_centre  \n",
      "4             Cairo  Cairo              Maadi  \n",
      "...             ...    ...                ...  \n",
      "83827         Cairo  Cairo            October  \n",
      "83828         Cairo  Cairo   Hadayek el qobba  \n",
      "83829         Cairo  Cairo         Heliopolis  \n",
      "83830         Cairo  Cairo         Tagammoa 5  \n",
      "83831         Cairo  Cairo             Helwan  \n",
      "\n",
      "[83832 rows x 31 columns]\n"
     ]
    }
   ],
   "source": [
    "try:\n",
    "    result_df = pd.read_sql(\"SELECT * FROM fct_order WHERE `City Cluster` = 'Cairo'\", con=engine)\n",
    "    print(result_df)\n",
    "except Exception as e:\n",
    "    print(f\"Error during data retrieval: {e}\")"
   ]
  },
  {
   "cell_type": "markdown",
   "metadata": {},
   "source": [
    "1.\tFind the total gmv_amount_lc for each City.\n"
   ]
  },
  {
   "cell_type": "code",
   "execution_count": 26,
   "metadata": {},
   "outputs": [
    {
     "name": "stdout",
     "output_type": "stream",
     "text": [
      "                    city  total_gmv_amount_lc\n",
      "0                  Cairo         1.219223e+07\n",
      "1                  Tanta         3.857273e+05\n",
      "2             Alexandria         2.249375e+06\n",
      "3                Zagazig         1.621132e+05\n",
      "4                 Assiut         1.516745e+05\n",
      "5               Damietta         5.871630e+03\n",
      "6               Mansoura         5.155947e+05\n",
      "7                 Talkha         2.271940e+04\n",
      "8   Al Mahallah Al Kubra         1.091236e+04\n",
      "9               Ismailia         7.369746e+04\n",
      "10          Damietta New         2.614277e+04\n",
      "11             Port Said         2.821038e+05\n",
      "12                 Banha         2.997557e+04\n",
      "13              Hurghada         6.821320e+04\n",
      "14             Damanhour         5.732765e+04\n",
      "15                 Minya         5.917970e+03\n",
      "16       Shebeen El Koom         1.145501e+04\n",
      "17                  None         1.032377e+05\n",
      "18                 Suhag         1.058199e+04\n",
      "19           North Coast         1.102546e+04\n",
      "20                  Suez         1.512902e+04\n",
      "21            Ras El Bar         7.624112e+03\n",
      "22              El Gouna         2.125000e+03\n"
     ]
    }
   ],
   "source": [
    "try:\n",
    "    query = \"SELECT city, SUM(gmv_amount_lc) AS total_gmv_amount_lc FROM fct_order GROUP BY city\"\n",
    "    result_df = pd.read_sql(query, con=engine)\n",
    "    print(result_df)\n",
    "except Exception as e:\n",
    "    print(f\"Error during data retrieval: {e}\")"
   ]
  },
  {
   "cell_type": "markdown",
   "metadata": {},
   "source": [
    "2.\tCount the number of orders grouped by platform.\n"
   ]
  },
  {
   "cell_type": "code",
   "execution_count": 27,
   "metadata": {},
   "outputs": [
    {
     "name": "stdout",
     "output_type": "stream",
     "text": [
      "      platform  total_orders\n",
      "0          iOS         56454\n",
      "1      android         61864\n",
      "2  desktop web           986\n",
      "3   mobile web           581\n"
     ]
    }
   ],
   "source": [
    "try:\n",
    "    query = \"SELECT platform, COUNT(*) AS total_orders FROM fct_order GROUP BY platform\"\n",
    "    result_df = pd.read_sql(query, con=engine)\n",
    "    print(result_df)\n",
    "except Exception as e:\n",
    "    print(f\"Error during data retrieval: {e}\")"
   ]
  },
  {
   "cell_type": "markdown",
   "metadata": {},
   "source": [
    "3.\tFind the average basket_amount_lc for each City Cluster.\n"
   ]
  },
  {
   "cell_type": "code",
   "execution_count": 28,
   "metadata": {},
   "outputs": [
    {
     "name": "stdout",
     "output_type": "stream",
     "text": [
      "  City Cluster  avg_basket_amount_lc\n",
      "0        Cairo            139.017206\n",
      "1        Delta            105.738527\n",
      "2         Alex            131.897312\n",
      "3          ESM            114.618815\n",
      "4         None            127.985542\n"
     ]
    }
   ],
   "source": [
    "try:\n",
    "    query = \"SELECT `City Cluster`, AVG(basket_amount_lc) AS avg_basket_amount_lc FROM fct_order GROUP BY `City Cluster`\"\n",
    "    result_df = pd.read_sql(query, con=engine)\n",
    "    print(result_df)\n",
    "except Exception as e:\n",
    "    print(f\"Error during data retrieval: {e}\")"
   ]
  },
  {
   "cell_type": "markdown",
   "metadata": {},
   "source": [
    "4.\tList the top 3 cities with the highest number of successful orders.\n"
   ]
  },
  {
   "cell_type": "code",
   "execution_count": 29,
   "metadata": {},
   "outputs": [
    {
     "name": "stdout",
     "output_type": "stream",
     "text": [
      "         city  total_successful_orders\n",
      "0       Cairo                    13159\n",
      "1  Alexandria                     2608\n",
      "2    Mansoura                      834\n"
     ]
    }
   ],
   "source": [
    "try:\n",
    "    query = \"SELECT city, COUNT(*) AS total_successful_orders FROM fct_order WHERE is_successful = 'SUCCESS' GROUP BY city ORDER BY total_successful_orders DESC LIMIT 3\"\n",
    "    result_df = pd.read_sql(query, con=engine)\n",
    "    print(result_df)\n",
    "except Exception as e:\n",
    "    print(f\"Error during data retrieval: {e}\")"
   ]
  },
  {
   "cell_type": "markdown",
   "metadata": {},
   "source": [
    "5.\tJoin fct_order and dim_vendor to display the vendor name for each order.\n"
   ]
  },
  {
   "cell_type": "code",
   "execution_count": 30,
   "metadata": {},
   "outputs": [
    {
     "name": "stdout",
     "output_type": "stream",
     "text": [
      "         order_id          order_time  vendor_id    analytical_customer_id  \\\n",
      "0       544145594 2021-09-01 10:41:53     609508  6zWSp9yqnEQuq4N6ykRgbbdQ   \n",
      "1       544358032 2021-09-01 15:56:56     709071  7pB4MC2aBPRdajLH2wPvIvAA   \n",
      "2       544366924 2021-09-01 16:09:09     607670  AFedsf0e-lSZer_X0eR4VE-g   \n",
      "3       544372362 2021-09-01 16:16:32     616421  JDYqF36aULSEaWsz604DuuRw   \n",
      "4       544467338 2021-09-01 18:06:40     735754  uJkW3IHmcxT5m8qhHNHLfIpg   \n",
      "...           ...                 ...        ...                       ...   \n",
      "118100  643323717 2022-01-01 20:36:36     614730  aZeGYy7SjvSaSNt47TGxHr6Q   \n",
      "118101  642691949 2022-01-01 01:33:14     602836  izLCkqz-46Ta-FMpzfgEle4Q   \n",
      "118102  642718374 2022-01-01 03:24:56     607605  yTrHLDAuhuScuiCHABzNUdWA   \n",
      "118103  643440356 2022-01-01 23:00:07     602778  RiSAcy9SUKT5SU_k9rWqVeug   \n",
      "118104  643105834 2022-01-01 17:01:47     602795  3zGv03US8BT-SpBHUAKVWmDQ   \n",
      "\n",
      "        is_acquisition  is_successful reason sub_reason owner  \\\n",
      "0                    0              1   None       None  None   \n",
      "1                    0              1   None       None  None   \n",
      "2                    0              1   None       None  None   \n",
      "3                    0              1   None       None  None   \n",
      "4                    0              1   None       None  None   \n",
      "...                ...            ...    ...        ...   ...   \n",
      "118100               1              1   None       None  None   \n",
      "118101               1              1   None       None  None   \n",
      "118102               0              1   None       None  None   \n",
      "118103               0              1   None       None  None   \n",
      "118104               1              1   None       None  None   \n",
      "\n",
      "       delivery_arrangement  ...  is_affordable_item  is_affordable_gem  \\\n",
      "0                       TGO  ...                   0                  0   \n",
      "1                       TGO  ...                   0                  0   \n",
      "2                       TGO  ...                   0                  0   \n",
      "3                       TGO  ...                   0                  0   \n",
      "4                       TGO  ...                   1                  0   \n",
      "...                     ...  ...                 ...                ...   \n",
      "118100                  TMP  ...                   0                  0   \n",
      "118101                  TMP  ...                   0                  0   \n",
      "118102                  TMP  ...                   0                  0   \n",
      "118103                  TMP  ...                   0                  0   \n",
      "118104                  TMP  ...                   0                  0   \n",
      "\n",
      "        is_affordable_restaurant is_affordable_voucher  is_affordable  \\\n",
      "0                              0                     0              0   \n",
      "1                              0                     0              0   \n",
      "2                              0                     0              0   \n",
      "3                              0                     0              0   \n",
      "4                              0                     0              1   \n",
      "...                          ...                   ...            ...   \n",
      "118100                         0                     0              0   \n",
      "118101                         0                     0              0   \n",
      "118102                         0                     0              0   \n",
      "118103                         0                     0              0   \n",
      "118104                         0                     0              0   \n",
      "\n",
      "        affordability_amt_total  City Cluster        City               Zone  \\\n",
      "0                           NaN         Cairo       Cairo        Mohandiseen   \n",
      "1                           NaN         Cairo       Cairo     Tagamoa 5 east   \n",
      "2                           NaN         Cairo       Cairo  Cairo_city_centre   \n",
      "3                           NaN         Cairo       Cairo              Maadi   \n",
      "4                          38.0         Cairo       Cairo              Maadi   \n",
      "...                         ...           ...         ...                ...   \n",
      "118100                      NaN         Cairo       Cairo       Sheikh zayed   \n",
      "118101                      NaN           ESM   Port Said      Portsaid city   \n",
      "118102                      NaN         Cairo       Cairo         Heliopolis   \n",
      "118103                      NaN          Alex  Alexandria    Alexandria west   \n",
      "118104                      NaN         Cairo       Cairo             Helwan   \n",
      "\n",
      "                                             vendor_name  \n",
      "0                                  Cilantro, Mohandiseen  \n",
      "1       El Shabrawy, Tagammoa 5 - South Investors Area 2  \n",
      "2                              Oldish, Downtown - Tahrir  \n",
      "3                        El Abd, New Maadi - El Basateen  \n",
      "4        Cabana Club, Maadi Corniche - El Salam Hospital  \n",
      "...                                                  ...  \n",
      "118100                        Beirut Express, dandy mall  \n",
      "118101                             Pizza Hut - Port Said  \n",
      "118102                             Hardee's, El Marghany  \n",
      "118103                                   KFC - Ibrahimia  \n",
      "118104                                      KFC - Helwan  \n",
      "\n",
      "[118105 rows x 32 columns]\n"
     ]
    }
   ],
   "source": [
    "try:\n",
    "    query = \"SELECT o.*, v.name_en AS vendor_name FROM fct_order o JOIN dim_vendor v ON o.vendor_id = v.vendor_id\"\n",
    "    result_df = pd.read_sql(query, con=engine)\n",
    "    print(result_df)\n",
    "except Exception as e:\n",
    "    print(f\"Error during data retrieval: {e}\")"
   ]
  },
  {
   "cell_type": "markdown",
   "metadata": {},
   "source": [
    "6.\tCalculate the total delivery fee collected for each vendor_id.\n"
   ]
  },
  {
   "cell_type": "code",
   "execution_count": 31,
   "metadata": {},
   "outputs": [
    {
     "name": "stdout",
     "output_type": "stream",
     "text": [
      "      vendor_id  total_delivery_fee\n",
      "0        609508              417.70\n",
      "1        602440              147.38\n",
      "2        709071              174.76\n",
      "3        607670               34.97\n",
      "4        616421             1855.75\n",
      "...         ...                 ...\n",
      "6173     764905               14.99\n",
      "6174     727528                4.99\n",
      "6175     763405               14.99\n",
      "6176     613928               15.00\n",
      "6177     712120               10.00\n",
      "\n",
      "[6178 rows x 2 columns]\n"
     ]
    }
   ],
   "source": [
    "try:\n",
    "    query = \"SELECT vendor_id, SUM(delivery_fee_amount_lc) AS total_delivery_fee FROM fct_order GROUP BY vendor_id\"\n",
    "    result_df = pd.read_sql(query, con=engine)\n",
    "    print(result_df)\n",
    "except Exception as e:\n",
    "    print(f\"Error during data retrieval: {e}\")"
   ]
  },
  {
   "cell_type": "markdown",
   "metadata": {},
   "source": [
    "7.\tIdentify the most common reason for unsuccessful orders.\n"
   ]
  },
  {
   "cell_type": "code",
   "execution_count": 32,
   "metadata": {},
   "outputs": [
    {
     "name": "stdout",
     "output_type": "stream",
     "text": [
      "           reason  total_orders\n",
      "0  ONLINE_PAYMENT          7394\n"
     ]
    }
   ],
   "source": [
    "try:\n",
    "    query = \"SELECT reason, COUNT(*) AS total_orders FROM fct_order WHERE is_successful = 'FAILED' GROUP BY reason ORDER BY total_orders DESC LIMIT 1\"\n",
    "    result_df = pd.read_sql(query, con=engine)\n",
    "    print(result_df)\n",
    "except Exception as e:\n",
    "    print(f\"Error during data retrieval: {e}\")"
   ]
  },
  {
   "cell_type": "markdown",
   "metadata": {},
   "source": [
    "8.\tFind the maximum gmv_amount_lc for each vertical_class.\n"
   ]
  },
  {
   "cell_type": "code",
   "execution_count": 33,
   "metadata": {},
   "outputs": [
    {
     "name": "stdout",
     "output_type": "stream",
     "text": [
      "  vertical_class  max_gmv_amount_lc\n",
      "0           food            7109.99\n",
      "1       non-food            4314.99\n"
     ]
    }
   ],
   "source": [
    "try:\n",
    "    query = \"SELECT vertical_class, MAX(gmv_amount_lc) AS max_gmv_amount_lc FROM fct_order GROUP BY vertical_class\"\n",
    "    result_df = pd.read_sql(query, con=engine)\n",
    "    print(result_df)\n",
    "except Exception as e:\n",
    "    print(f\"Error during data retrieval: {e}\")"
   ]
  },
  {
   "cell_type": "markdown",
   "metadata": {},
   "source": [
    "9.\tRetrieve vendors who have processed orders with basket_amount_lc greater than 100.\n"
   ]
  },
  {
   "cell_type": "code",
   "execution_count": 34,
   "metadata": {},
   "outputs": [
    {
     "name": "stdout",
     "output_type": "stream",
     "text": [
      "      vendor_id                                        name_en  \\\n",
      "0        609508                          Cilantro, Mohandiseen   \n",
      "1        607670                      Oldish, Downtown - Tahrir   \n",
      "2        748514                    Ez al Minofy, El Rehab City   \n",
      "3        735735                       ZANOBIA,Haram - El Ahram   \n",
      "4        724709  Yasmin Al Sham, 6th of October - 2nd District   \n",
      "...         ...                                            ...   \n",
      "4489     614741                     Choco Nut, City Stars Mall   \n",
      "4490     617010                            Papaya,Central Park   \n",
      "4491     762074                                    Porto crepe   \n",
      "4492     712120                       Rockets,Shobra El Kheima   \n",
      "4493     711161        Pizza P7p7,Hadaiq Al Qubbah - Al Hdayeq   \n",
      "\n",
      "       chain_name_en vertical_class vertical  main_cuisine  \n",
      "0           Cilantro           food     food  Coffee & Tea  \n",
      "1             Oldish           food     food       Italian  \n",
      "2       Ez Al Minofy           food     food    Sandwiches  \n",
      "3            ZANOBIA           food     food       Burgers  \n",
      "4     Yasmin Al Sham           food     food      Shawerma  \n",
      "...              ...            ...      ...           ...  \n",
      "4489       Choco Nut           food     food      Desserts  \n",
      "4490          Papaya           food     food     Beverages  \n",
      "4491     Porto Crepe           food     food        Crepes  \n",
      "4492         Rockets           food     food    Sandwiches  \n",
      "4493      Pizza P7p7           food     food         Pizza  \n",
      "\n",
      "[4494 rows x 6 columns]\n"
     ]
    }
   ],
   "source": [
    "try:\n",
    "    query = \"SELECT DISTINCT v.* FROM dim_vendor v JOIN fct_order o ON v.vendor_id = o.vendor_id WHERE o.basket_amount_lc > 100\"\n",
    "    result_df = pd.read_sql(query, con=engine)\n",
    "    print(result_df)\n",
    "except Exception as e:\n",
    "    print(f\"Error during data retrieval: {e}\")"
   ]
  },
  {
   "cell_type": "markdown",
   "metadata": {},
   "source": [
    "10.\tFind the number of successful and unsuccessful orders grouped by City.\n"
   ]
  },
  {
   "cell_type": "code",
   "execution_count": 35,
   "metadata": {},
   "outputs": [
    {
     "name": "stdout",
     "output_type": "stream",
     "text": [
      "                    city  is_successful  total_orders\n",
      "0                  Cairo              1         70673\n",
      "1                  Tanta              1          3766\n",
      "2             Alexandria              1         13791\n",
      "3                  Tanta              0           798\n",
      "4                  Cairo              0         13159\n",
      "5                Zagazig              0           444\n",
      "6             Alexandria              0          2608\n",
      "7                 Assiut              0           643\n",
      "8               Damietta              0            12\n",
      "9               Mansoura              0           834\n",
      "10                Talkha              0            36\n",
      "11  Al Mahallah Al Kubra              0            38\n",
      "12              Ismailia              0            60\n",
      "13          Damietta New              0            19\n",
      "14             Port Said              0           632\n",
      "15                 Banha              0            65\n",
      "16              Hurghada              0            66\n",
      "17             Damanhour              0            89\n",
      "18                 Minya              0             4\n",
      "19       Shebeen El Koom              0            18\n",
      "20                  None              0           121\n",
      "21                 Suhag              0            29\n",
      "22           North Coast              0             5\n",
      "23               Zagazig              1          1545\n",
      "24              Mansoura              1          4166\n",
      "25                Talkha              1           199\n",
      "26                 Minya              1            58\n",
      "27                 Banha              1           223\n",
      "28  Al Mahallah Al Kubra              1            84\n",
      "29              Ismailia              1           554\n",
      "30                Assiut              1          1259\n",
      "31             Port Said              1          1822\n",
      "32                  None              1           610\n",
      "33       Shebeen El Koom              1           117\n",
      "34             Damanhour              1           352\n",
      "35                 Suhag              1           104\n",
      "36          Damietta New              1           192\n",
      "37           North Coast              1            27\n",
      "38              Hurghada              1           379\n",
      "39                  Suez              1           122\n",
      "40              Damietta              1            64\n",
      "41                  Suez              0            28\n",
      "42            Ras El Bar              1            58\n",
      "43              El Gouna              1             4\n",
      "44            Ras El Bar              0             7\n",
      "45              El Gouna              0             1\n"
     ]
    }
   ],
   "source": [
    "try:\n",
    "    query = \"SELECT city, is_successful, COUNT(*) AS total_orders FROM fct_order GROUP BY city, is_successful\"\n",
    "    result_df = pd.read_sql(query, con=engine)\n",
    "    print(result_df)\n",
    "except Exception as e:\n",
    "    print(f\"Error during data retrieval: {e}\")"
   ]
  },
  {
   "cell_type": "markdown",
   "metadata": {},
   "source": [
    "11.\tList vendors whose main_cuisine appears in more than 3 orders.\n"
   ]
  },
  {
   "cell_type": "code",
   "execution_count": 36,
   "metadata": {},
   "outputs": [
    {
     "name": "stdout",
     "output_type": "stream",
     "text": [
      "Vendors whose main_cuisine appears in more than 3 orders:\n",
      "      vendor_id                                       name_en  \\\n",
      "0        719908          talabat mart, Nasr City - El Tayaran   \n",
      "1        744902         talabat mart,Madinaty - Sporting Club   \n",
      "2        720071       talabat mart, Tagammoa 5 - Banks Center   \n",
      "3        718588   talabat mart, 6th of October - 4th District   \n",
      "4        713239                   talabat mart, El Rehab City   \n",
      "...         ...                                           ...   \n",
      "3968     762726  Mahmaset Mofeed,  Al Galaa-Sidi Besher Qebly   \n",
      "3969     763024                       El Halaby, El Namies St   \n",
      "3970     762662                      Moods, Assiut University   \n",
      "3971     617010                           Papaya,Central Park   \n",
      "3972     764654    Burger King, Tagammoa 5 - Banafseg 1,2,3,4   \n",
      "\n",
      "            main_cuisine  order_count  \n",
      "0                Grocery          708  \n",
      "1                Grocery          675  \n",
      "2                Grocery          646  \n",
      "3                Grocery          640  \n",
      "4                Grocery          635  \n",
      "...                  ...          ...  \n",
      "3968  Nuts & Dried Fruit            4  \n",
      "3969            Shawerma            4  \n",
      "3970          Sandwiches            4  \n",
      "3971           Beverages            4  \n",
      "3972             Burgers            4  \n",
      "\n",
      "[3973 rows x 4 columns]\n"
     ]
    }
   ],
   "source": [
    "try:\n",
    "    query = \"\"\"\n",
    "    SELECT v.vendor_id, v.name_en, v.main_cuisine, COUNT(o.order_id) AS order_count\n",
    "    FROM dim_vendor v\n",
    "    JOIN fct_order o ON v.vendor_id = o.vendor_id\n",
    "    GROUP BY v.vendor_id, v.name_en, v.main_cuisine\n",
    "    HAVING COUNT(o.order_id) > 3\n",
    "    ORDER BY order_count DESC\n",
    "    \"\"\"\n",
    "    result_df = pd.read_sql(query, con=engine)\n",
    "    print(\"Vendors whose main_cuisine appears in more than 3 orders:\")\n",
    "    print(result_df)\n",
    "except Exception as e:\n",
    "    print(f\"Error during data retrieval: {e}\")\n"
   ]
  },
  {
   "cell_type": "markdown",
   "metadata": {},
   "source": [
    "12.\tRetrieve the vendor names for orders with delays greater than 15 minutes."
   ]
  },
  {
   "cell_type": "code",
   "execution_count": 37,
   "metadata": {},
   "outputs": [
    {
     "name": "stdout",
     "output_type": "stream",
     "text": [
      "                                                name_en\n",
      "0                                 Cilantro, Mohandiseen\n",
      "1      El Shabrawy, Tagammoa 5 - South Investors Area 2\n",
      "2                             Oldish, Downtown - Tahrir\n",
      "3       Cabana Club, Maadi Corniche - El Salam Hospital\n",
      "4                           Ez al Minofy, El Rehab City\n",
      "...                                                 ...\n",
      "22222                     Portobello Lounge - Port Said\n",
      "22223            McDonald's - Suez Canal st. - Mansoura\n",
      "22224                          Heart Attack, El Mashaya\n",
      "22225                          Suez fish,Gharb El Balad\n",
      "22226                                       Porto crepe\n",
      "\n",
      "[22227 rows x 1 columns]\n"
     ]
    }
   ],
   "source": [
    "try:\n",
    "    query = \"SELECT v.name_en FROM dim_vendor v JOIN fct_order o ON v.vendor_id = o.vendor_id WHERE o.order_delay > 15\"\n",
    "    result_df = pd.read_sql(query, con=engine)\n",
    "    print(result_df)\n",
    "except Exception as e:\n",
    "    print(f\"Error during data retrieval: {e}\")"
   ]
  },
  {
   "cell_type": "markdown",
   "metadata": {},
   "source": [
    "13.\tFind the total affordability_amt_total for each platform."
   ]
  },
  {
   "cell_type": "code",
   "execution_count": 38,
   "metadata": {},
   "outputs": [
    {
     "name": "stdout",
     "output_type": "stream",
     "text": [
      "      platform  total_affordability_amt_total\n",
      "0          iOS                   6.427894e+05\n",
      "1      android                   1.096293e+06\n",
      "2  desktop web                   9.201154e+03\n",
      "3   mobile web                   5.007668e+03\n"
     ]
    }
   ],
   "source": [
    "# 13.\tFind the total affordability_amt_total for each platform.\n",
    "try:\n",
    "    query = \"SELECT platform, SUM(affordability_amt_total) AS total_affordability_amt_total FROM fct_order GROUP BY platform\"\n",
    "    result_df = pd.read_sql(query, con=engine)\n",
    "    print(result_df)\n",
    "except Exception as e:\n",
    "    print(f\"Error during data retrieval: {e}\")"
   ]
  },
  {
   "cell_type": "markdown",
   "metadata": {},
   "source": [
    "14.\tCalculate the average dropoff_distance_manhattan for orders in each Zone."
   ]
  },
  {
   "cell_type": "code",
   "execution_count": 39,
   "metadata": {},
   "outputs": [
    {
     "name": "stdout",
     "output_type": "stream",
     "text": [
      "                 Zone  avg_dropoff_distance_manhattan\n",
      "0         Mohandiseen                     1530.003368\n",
      "1   Cairo_city_centre                     1734.333215\n",
      "2      Tagamoa 5 east                     2218.209540\n",
      "3               Maadi                     1491.409137\n",
      "4          Tagammoa 5                     2125.078938\n",
      "..                ...                             ...\n",
      "56          West Golf                             NaN\n",
      "57           Al Safaa                             NaN\n",
      "58          El Marina                             NaN\n",
      "59           Downtown                             NaN\n",
      "60   Manshayt Mubarak                             NaN\n",
      "\n",
      "[61 rows x 2 columns]\n"
     ]
    }
   ],
   "source": [
    "# 14.\tCalculate the average dropoff_distance_manhattan for orders in each Zone.\n",
    "try:\n",
    "    query = \"SELECT Zone, AVG (dropoff_distance_manhattan) AS avg_dropoff_distance_manhattan FROM fct_order GROUP BY Zone\"      \n",
    "    result_df = pd.read_sql(query, con=engine)\n",
    "    print(result_df)\n",
    "except Exception as e:\n",
    "    print(f\"Error during data retrieval: {e}\")"
   ]
  },
  {
   "cell_type": "markdown",
   "metadata": {},
   "source": [
    "15.\tList vendors operating in the 'Food' vertical but not in the 'Chain' vertical class."
   ]
  },
  {
   "cell_type": "code",
   "execution_count": 40,
   "metadata": {},
   "outputs": [
    {
     "name": "stdout",
     "output_type": "stream",
     "text": [
      "      vendor_id                                        name_en  \\\n",
      "0        738143            Nutella Waffel 2,Faisal - Kom Bakar   \n",
      "1        742299  Waffle Maker, Dokki - Mohy El Din Abou El Ezz   \n",
      "2        740938                            Koshary Faisal,Giza   \n",
      "3        751673      Koshary w Tawajin Moamen, Al Bahr Al Azam   \n",
      "4        763259        Koshary Helmeya Hend, Imbabah - Bashtil   \n",
      "...         ...                                            ...   \n",
      "5561     617963                        Karcar,Haram - Mariotia   \n",
      "5562     732140                   Friito,Mohandesin - Mit Okba   \n",
      "5563     757524    CHAMP`S,6th of October - El Hay El Motamyez   \n",
      "5564     763863            T-Rex,6th of October - 1st District   \n",
      "5565     749881                                     Slice,Glim   \n",
      "\n",
      "                 chain_name_en vertical_class vertical main_cuisine  \n",
      "0             Nutella Waffel 2           food     food      Waffles  \n",
      "1                 Waffle Maker           food     food      Waffles  \n",
      "2               Koshary Faisal           food     food      Koshary  \n",
      "3     Koshary w Tawajin Moamen           food     food      Koshary  \n",
      "4         Koshary Halwani Hend           food     food      Koshary  \n",
      "...                        ...            ...      ...          ...  \n",
      "5561                    Karcar           food     food   Sandwiches  \n",
      "5562                    Friito           food     food   Sandwiches  \n",
      "5563                   CHAMP`S           food     food   Sandwiches  \n",
      "5564                     T-Rex           food     food   Sandwiches  \n",
      "5565                     SLICE           food     food   Sandwiches  \n",
      "\n",
      "[5566 rows x 6 columns]\n"
     ]
    }
   ],
   "source": [
    "try:\n",
    "    query = \"SELECT * FROM dim_vendor WHERE vertical = 'Food' AND vertical_class != 'Chain'\"\n",
    "    result_df = pd.read_sql(query, con=engine)\n",
    "    print(result_df)\n",
    "except Exception as e:\n",
    "    print(f\"Error during data retrieval: {e}\")"
   ]
  },
  {
   "cell_type": "markdown",
   "metadata": {},
   "source": [
    "16.\tUse a subquery to find vendors with the highest average basket_amount_lc."
   ]
  },
  {
   "cell_type": "code",
   "execution_count": 41,
   "metadata": {},
   "outputs": [
    {
     "name": "stdout",
     "output_type": "stream",
     "text": [
      "   vendor_id                      name_en main_cuisine  avg_basket_amount_lc\n",
      "0     618250  Samsung, Sidi Besher Bahary  Electronics                3699.6\n"
     ]
    }
   ],
   "source": [
    "try:\n",
    "    query = \"\"\"\n",
    "        SELECT v.vendor_id, v.name_en, v.main_cuisine, subquery.avg_basket_amount_lc \n",
    "        FROM (\n",
    "            SELECT vendor_id, AVG(basket_amount_lc) AS avg_basket_amount_lc\n",
    "            FROM fct_order \n",
    "            GROUP BY vendor_id\n",
    "        ) AS subquery\n",
    "        JOIN dim_vendor v ON subquery.vendor_id = v.vendor_id\n",
    "        ORDER BY subquery.avg_basket_amount_lc DESC \n",
    "        LIMIT 1;\n",
    "    \"\"\"\n",
    "    result_df = pd.read_sql(query, con=engine)\n",
    "    print(result_df)\n",
    "except Exception as e:  \n",
    "    print(f\"Error during data retrieval: {e}\")\n"
   ]
  },
  {
   "cell_type": "markdown",
   "metadata": {},
   "source": [
    "17.\tRetrieve all orders where the vendor's main_cuisine matches the order's vertical."
   ]
  },
  {
   "cell_type": "code",
   "execution_count": 42,
   "metadata": {},
   "outputs": [
    {
     "name": "stdout",
     "output_type": "stream",
     "text": [
      "        order_id          order_time  vendor_id    analytical_customer_id  \\\n",
      "0      545316452 2021-09-02 18:58:20     725528  pJDVoRMmQySWmYYjMOpn-FDQ   \n",
      "1      546843321 2021-09-04 17:13:00     713185  pJDVoRMmQySWmYYjMOpn-FDQ   \n",
      "2      545555554 2021-09-02 23:08:34     713071  0o6ohQ9ilXQQiXLo93-f3FnA   \n",
      "3      547180321 2021-09-04 23:41:29     725763  EZUgdEa-VQRs-nIoa2M2LJfw   \n",
      "4      548695599 2021-09-06 23:39:25     713744  8acld_WWq0SvWbOHW5KXIVzw   \n",
      "...          ...                 ...        ...                       ...   \n",
      "13595  643390845 2022-01-01 21:51:54     714051  FNH3v7tucCT6ugzMtrNR80tw   \n",
      "13596  643048108 2022-01-01 15:58:08     713132  PvaJGLkOtqQ4OOTekP4H6xDA   \n",
      "13597  644132548 2022-01-02 20:02:11     714051  usykLgzu14SyuSffzG4XbFLw   \n",
      "13598  643831761 2022-01-02 15:15:42     708599  jzlF1kS-GcTR-cH5SbaATvsg   \n",
      "13599  643617259 2022-01-02 10:25:08     743668  5v6buYMKDlS9KFBqMd_dJiuw   \n",
      "\n",
      "       is_acquisition  is_successful                  reason  \\\n",
      "0                   0              0      VENDOR_UNREACHABLE   \n",
      "1                   0              0        ITEM_UNAVAILABLE   \n",
      "2                   0              0      VENDOR_UNREACHABLE   \n",
      "3                   0              0  CUSTOMER_MISTAKE_ERROR   \n",
      "4                   0              0        ITEM_UNAVAILABLE   \n",
      "...               ...            ...                     ...   \n",
      "13595               0              1                    None   \n",
      "13596               0              1                    None   \n",
      "13597               0              1                    None   \n",
      "13598               0              1                    None   \n",
      "13599               0              1                    None   \n",
      "\n",
      "                           sub_reason     owner delivery_arrangement  ...  \\\n",
      "0                                None    VENDOR                  TGO  ...   \n",
      "1                                None    VENDOR                  TGO  ...   \n",
      "2                                None    VENDOR                  TGO  ...   \n",
      "3      Changed mind - Mistake / Error  CUSTOMER                  TGO  ...   \n",
      "4                                None    VENDOR                  TGO  ...   \n",
      "...                               ...       ...                  ...  ...   \n",
      "13595                            None      None                  TGO  ...   \n",
      "13596                            None      None                  TGO  ...   \n",
      "13597                            None      None                  TGO  ...   \n",
      "13598                            None      None                  TGO  ...   \n",
      "13599                            None      None                  TGO  ...   \n",
      "\n",
      "       is_affordable_item  is_affordable_gem  is_affordable_restaurant  \\\n",
      "0                       0                  0                         0   \n",
      "1                       0                  0                         0   \n",
      "2                       0                  0                         0   \n",
      "3                       0                  0                         0   \n",
      "4                       0                  0                         0   \n",
      "...                   ...                ...                       ...   \n",
      "13595                   0                  0                         0   \n",
      "13596                   0                  0                         0   \n",
      "13597                   0                  0                         0   \n",
      "13598                   0                  0                         0   \n",
      "13599                   0                  0                         0   \n",
      "\n",
      "      is_affordable_voucher  is_affordable  affordability_amt_total  \\\n",
      "0                         1              0                      NaN   \n",
      "1                         1              0                      NaN   \n",
      "2                         1              1                      NaN   \n",
      "3                         0              0                      NaN   \n",
      "4                         0              0                      NaN   \n",
      "...                     ...            ...                      ...   \n",
      "13595                     0              0                      NaN   \n",
      "13596                     0              0                      NaN   \n",
      "13597                     0              0                      NaN   \n",
      "13598                     0              0                      NaN   \n",
      "13599                     0              0                      NaN   \n",
      "\n",
      "       City Cluster       City              Zone main_cuisine  \n",
      "0             Cairo      Cairo           October      Grocery  \n",
      "1             Cairo      Cairo           October      Grocery  \n",
      "2             Delta      Tanta             Tanta      Grocery  \n",
      "3             Cairo      Cairo             Maadi      Grocery  \n",
      "4             Cairo      Cairo         Nasr city     Pharmacy  \n",
      "...             ...        ...               ...          ...  \n",
      "13595           ESM  Port Said     Portsaid city      Grocery  \n",
      "13596         Cairo      Cairo  Hadayek el qobba      Grocery  \n",
      "13597           ESM  Port Said     Portsaid city      Grocery  \n",
      "13598           ESM  Port Said     Portsaid city      Grocery  \n",
      "13599         Cairo      Cairo             Maadi      Grocery  \n",
      "\n",
      "[13600 rows x 32 columns]\n"
     ]
    }
   ],
   "source": [
    "try:\n",
    "    query = \"\"\"\n",
    "    SELECT o.*, v.main_cuisine\n",
    "    FROM fct_order o\n",
    "    JOIN dim_vendor v ON o.vendor_id = v.vendor_id\n",
    "    WHERE o.vertical = v.main_cuisine\n",
    "    \"\"\"\n",
    "    result_df = pd.read_sql(query, con=engine)\n",
    "    print(result_df)\n",
    "except Exception as e:  \n",
    "    print(f\"Error during data retrieval: {e}\")"
   ]
  },
  {
   "cell_type": "markdown",
   "metadata": {},
   "source": [
    "18.\tFind the percentage of orders with is_affordable_freedelivery grouped by City."
   ]
  },
  {
   "cell_type": "code",
   "execution_count": 43,
   "metadata": {},
   "outputs": [
    {
     "name": "stdout",
     "output_type": "stream",
     "text": [
      "                    city  percentage_orders\n",
      "0                  Cairo             8.0375\n",
      "1                  Tanta            16.7835\n",
      "2             Alexandria             7.8358\n",
      "3                Zagazig            40.8748\n",
      "4                 Assiut            18.5068\n",
      "5               Damietta            15.7895\n",
      "6               Mansoura            13.7000\n",
      "7                 Talkha            12.3404\n",
      "8   Al Mahallah Al Kubra            42.6230\n",
      "9               Ismailia            17.2638\n",
      "10          Damietta New            28.9100\n",
      "11             Port Said            21.6381\n",
      "12                 Banha            36.4583\n",
      "13              Hurghada            22.2472\n",
      "14             Damanhour            19.5011\n",
      "15                 Minya             9.6774\n",
      "16       Shebeen El Koom            48.8889\n",
      "17                  None            11.3543\n",
      "18                 Suhag            34.5865\n",
      "19           North Coast             0.0000\n",
      "20                  Suez            29.3333\n",
      "21            Ras El Bar            29.2308\n",
      "22              El Gouna             0.0000\n"
     ]
    }
   ],
   "source": [
    "try:\n",
    "    query = \"SELECT city, SUM(is_affordable_freedelivery) / COUNT(*) * 100 AS percentage_orders FROM fct_order GROUP BY city\"\n",
    "    result_df = pd.read_sql(query, con=engine)\n",
    "    print(result_df)\n",
    "except Exception as e:\n",
    "    print(f\"Error during data retrieval: {e}\")"
   ]
  },
  {
   "cell_type": "markdown",
   "metadata": {},
   "source": [
    "19.\tList the cities with more than 100 orders."
   ]
  },
  {
   "cell_type": "code",
   "execution_count": 44,
   "metadata": {},
   "outputs": [
    {
     "name": "stdout",
     "output_type": "stream",
     "text": [
      "                    city  total_orders\n",
      "0                  Cairo         83832\n",
      "1                  Tanta          4564\n",
      "2             Alexandria         16399\n",
      "3                Zagazig          1989\n",
      "4                 Assiut          1902\n",
      "5               Mansoura          5000\n",
      "6                 Talkha           235\n",
      "7   Al Mahallah Al Kubra           122\n",
      "8               Ismailia           614\n",
      "9           Damietta New           211\n",
      "10             Port Said          2454\n",
      "11                 Banha           288\n",
      "12              Hurghada           445\n",
      "13             Damanhour           441\n",
      "14       Shebeen El Koom           135\n",
      "15                  None           731\n",
      "16                 Suhag           133\n",
      "17                  Suez           150\n"
     ]
    }
   ],
   "source": [
    "try:\n",
    "    query = \"SELECT city, COUNT(*) AS total_orders FROM fct_order GROUP BY city HAVING COUNT(*) > 100\"\n",
    "    result_df = pd.read_sql(query, con=engine)\n",
    "    print(result_df)\n",
    "except Exception as e:\n",
    "    print(f\"Error during data retrieval: {e}\")"
   ]
  },
  {
   "cell_type": "markdown",
   "metadata": {},
   "source": [
    "20.\tRank the cities by their total gmv_amount_lc in descending order."
   ]
  },
  {
   "cell_type": "code",
   "execution_count": 45,
   "metadata": {},
   "outputs": [
    {
     "name": "stdout",
     "output_type": "stream",
     "text": [
      "                    city  total_gmv_amount_lc\n",
      "0                  Cairo         1.219223e+07\n",
      "1             Alexandria         2.249375e+06\n",
      "2               Mansoura         5.155947e+05\n",
      "3                  Tanta         3.857273e+05\n",
      "4              Port Said         2.821038e+05\n",
      "5                Zagazig         1.621132e+05\n",
      "6                 Assiut         1.516745e+05\n",
      "7                   None         1.032377e+05\n",
      "8               Ismailia         7.369746e+04\n",
      "9               Hurghada         6.821320e+04\n",
      "10             Damanhour         5.732765e+04\n",
      "11                 Banha         2.997557e+04\n",
      "12          Damietta New         2.614277e+04\n",
      "13                Talkha         2.271940e+04\n",
      "14                  Suez         1.512902e+04\n",
      "15       Shebeen El Koom         1.145501e+04\n",
      "16           North Coast         1.102546e+04\n",
      "17  Al Mahallah Al Kubra         1.091236e+04\n",
      "18                 Suhag         1.058199e+04\n",
      "19            Ras El Bar         7.624112e+03\n",
      "20                 Minya         5.917970e+03\n",
      "21              Damietta         5.871630e+03\n",
      "22              El Gouna         2.125000e+03\n"
     ]
    }
   ],
   "source": [
    "try:\n",
    "    query = \"SELECT city, SUM(gmv_amount_lc) AS total_gmv_amount_lc FROM fct_order GROUP BY city ORDER BY total_gmv_amount_lc DESC\"\n",
    "    result_df = pd.read_sql(query, con=engine)\n",
    "    print(result_df)\n",
    "except Exception as e:\n",
    "    print(f\"Error during data retrieval: {e}\")"
   ]
  },
  {
   "cell_type": "markdown",
   "metadata": {},
   "source": [
    "# Advanced SQL Queries"
   ]
  },
  {
   "cell_type": "markdown",
   "metadata": {},
   "source": [
    "1.\tWrite a query to rank vendors by their total number of orders using window functions."
   ]
  },
  {
   "cell_type": "code",
   "execution_count": 46,
   "metadata": {},
   "outputs": [
    {
     "name": "stdout",
     "output_type": "stream",
     "text": [
      "      vendor_id                                            name_en  \\\n",
      "0        719908               talabat mart, Nasr City - El Tayaran   \n",
      "1        744902              talabat mart,Madinaty - Sporting Club   \n",
      "2        720071            talabat mart, Tagammoa 5 - Banks Center   \n",
      "3        718588        talabat mart, 6th of October - 4th District   \n",
      "4        713239                        talabat mart, El Rehab City   \n",
      "...         ...                                                ...   \n",
      "5376     761934                           Hunger Station, El Rehab   \n",
      "5377     613535  Zaher Patisserie & Dairy, Heliopolis - Hegaz S...   \n",
      "5378     735598                            Bl Wahda, El Rehab City   \n",
      "5379     727528  Bon Abd El Ma3bod - Asrar El Bon, Mokattam - E...   \n",
      "5380     712120                           Rockets,Shobra El Kheima   \n",
      "\n",
      "          main_cuisine  total_orders  order_rank  \n",
      "0              Grocery           708           1  \n",
      "1              Grocery           675           2  \n",
      "2              Grocery           646           3  \n",
      "3              Grocery           640           4  \n",
      "4              Grocery           635           5  \n",
      "...                ...           ...         ...  \n",
      "5376           Burgers             1        4791  \n",
      "5377          Desserts             1        4791  \n",
      "5378  Speciality Store             1        4791  \n",
      "5379      Coffee & Tea             1        4791  \n",
      "5380        Sandwiches             1        4791  \n",
      "\n",
      "[5381 rows x 5 columns]\n"
     ]
    }
   ],
   "source": [
    "try:\n",
    "    query = \"\"\"\n",
    "    SELECT o.vendor_id, v.name_en, v.main_cuisine, \n",
    "           COUNT(*) AS total_orders,\n",
    "           RANK() OVER (ORDER BY COUNT(*) DESC) AS order_rank\n",
    "    FROM fct_order o\n",
    "    JOIN dim_vendor v ON o.vendor_id = v.vendor_id\n",
    "    GROUP BY o.vendor_id, v.name_en, v.main_cuisine;\n",
    "    \"\"\"\n",
    "    result_df = pd.read_sql(query, con=engine)\n",
    "    print(result_df)\n",
    "except Exception as e:\n",
    "    print(f\"Error during data retrieval: {e}\")\n"
   ]
  },
  {
   "cell_type": "markdown",
   "metadata": {},
   "source": [
    "2.\tUse a Common Table Expression (CTE) to calculate the average order delay for each city."
   ]
  },
  {
   "cell_type": "code",
   "execution_count": 47,
   "metadata": {},
   "outputs": [
    {
     "name": "stdout",
     "output_type": "stream",
     "text": [
      "                    city  avg_order_delay\n",
      "0                  Cairo      -184.406725\n",
      "1                  Tanta      -177.597582\n",
      "2             Alexandria      -166.808794\n",
      "3                Zagazig      -266.754483\n",
      "4                 Assiut      -235.105159\n",
      "5               Damietta        43.540984\n",
      "6               Mansoura      -146.131758\n",
      "7                 Talkha      -186.742268\n",
      "8   Al Mahallah Al Kubra      -246.631579\n",
      "9               Ismailia      -191.667331\n",
      "10          Damietta New      -149.565517\n",
      "11             Port Said      -217.838143\n",
      "12                 Banha      -199.353846\n",
      "13              Hurghada      -259.374150\n",
      "14             Damanhour      -182.748538\n",
      "15                 Minya      -364.044444\n",
      "16       Shebeen El Koom      -203.781818\n",
      "17                  None      -101.157783\n",
      "18                 Suhag        53.064103\n",
      "19           North Coast              NaN\n",
      "20                  Suez        14.450000\n",
      "21            Ras El Bar       -48.775000\n",
      "22              El Gouna              NaN\n"
     ]
    }
   ],
   "source": [
    "try:\n",
    "    query = \"\"\"\n",
    "    WITH cte AS (\n",
    "        SELECT city, AVG(order_delay) AS avg_order_delay\n",
    "        FROM fct_order\n",
    "        GROUP BY city\n",
    "    )\n",
    "    SELECT * FROM cte;\n",
    "    \"\"\"\n",
    "    result_df = pd.read_sql(query, con=engine)\n",
    "    print(result_df)\n",
    "except Exception as e:\n",
    "    print(f\"Error during data retrieval: {e}\")"
   ]
  },
  {
   "cell_type": "markdown",
   "metadata": {},
   "source": [
    "3.\tIdentify the vendor with the highest average gmv_amount_lc for each city."
   ]
  },
  {
   "cell_type": "code",
   "execution_count": 48,
   "metadata": {},
   "outputs": [
    {
     "name": "stdout",
     "output_type": "stream",
     "text": [
      "         city  vendor_id  avg_gmv_amount_lc\n",
      "0  Alexandria     618250            3714.59\n"
     ]
    }
   ],
   "source": [
    "try:\n",
    "    query = \"\"\"\n",
    "    SELECT city, vendor_id, AVG(gmv_amount_lc) AS avg_gmv_amount_lc\n",
    "    FROM fct_order\n",
    "    GROUP BY city, vendor_id\n",
    "    HAVING AVG(gmv_amount_lc) = (\n",
    "        SELECT MAX(avg_gmv_amount_lc)\n",
    "        FROM (\n",
    "            SELECT city, vendor_id, AVG(gmv_amount_lc) AS avg_gmv_amount_lc\n",
    "            FROM fct_order\n",
    "            GROUP BY city, vendor_id\n",
    "        ) AS subquery\n",
    "        WHERE subquery.city = city\n",
    "    )\n",
    "    \"\"\"\n",
    "    result_df = pd.read_sql(query, con=engine)\n",
    "    print(result_df)\n",
    "except Exception as e:\n",
    "    print(f\"Error during data retrieval: {e}\")"
   ]
  },
  {
   "cell_type": "markdown",
   "metadata": {},
   "source": [
    "4.\tCalculate the cumulative gmv_amount_lc for each platform using a window function."
   ]
  },
  {
   "cell_type": "code",
   "execution_count": 49,
   "metadata": {},
   "outputs": [
    {
     "name": "stdout",
     "output_type": "stream",
     "text": [
      "          platform  gmv_amount_lc  cumulative_gmv_amount_lc\n",
      "0          android          67.43                    67.430\n",
      "1          android          53.50                   120.930\n",
      "2          android         100.99                   221.920\n",
      "3          android          55.99                   277.910\n",
      "4          android         174.99                   452.900\n",
      "...            ...            ...                       ...\n",
      "119880  mobile web          37.25                 85540.958\n",
      "119881  mobile web          64.20                 85605.158\n",
      "119882  mobile web         317.00                 85922.158\n",
      "119883  mobile web          42.98                 85965.138\n",
      "119884  mobile web          54.99                 86020.128\n",
      "\n",
      "[119885 rows x 3 columns]\n"
     ]
    }
   ],
   "source": [
    "try:\n",
    "    query = \"\"\"\n",
    "    SELECT platform, gmv_amount_lc,\n",
    "           SUM(gmv_amount_lc) OVER (PARTITION BY platform ORDER BY order_time) AS cumulative_gmv_amount_lc\n",
    "    FROM fct_order\n",
    "    \"\"\"\n",
    "    result_df = pd.read_sql(query, con=engine)\n",
    "    print(result_df)\n",
    "except Exception as e:\n",
    "    print(f\"Error during data retrieval: {e}\")"
   ]
  },
  {
   "cell_type": "markdown",
   "metadata": {},
   "source": [
    "5.\tUse a subquery to find vendors whose average delivery fee is above the overall average."
   ]
  },
  {
   "cell_type": "code",
   "execution_count": 50,
   "metadata": {},
   "outputs": [
    {
     "name": "stdout",
     "output_type": "stream",
     "text": [
      "      vendor_id                                        name_en  \\\n",
      "0        742299  Waffle Maker, Dokki - Mohy El Din Abou El Ezz   \n",
      "1        757632                   Koshary El-Zaaem, Tagammoa 1   \n",
      "2        612856                   Koshary El Za3im, El Zeitoun   \n",
      "3        758531                      Koushari Hend,Mohandiseen   \n",
      "4        708557                 Koshary Hend, Cairo - Abbasiya   \n",
      "...         ...                                            ...   \n",
      "2659     761773                              El Chef,El Seyouf   \n",
      "2660     744118                Eat Out,Downtown - Talaat Harab   \n",
      "2661     757524    CHAMP`S,6th of October - El Hay El Motamyez   \n",
      "2662     763863            T-Rex,6th of October - 1st District   \n",
      "2663     749881                                     Slice,Glim   \n",
      "\n",
      "      avg_delivery_fee  \n",
      "0            14.656667  \n",
      "1            12.490000  \n",
      "2            13.885455  \n",
      "3            13.260769  \n",
      "4            12.023529  \n",
      "...                ...  \n",
      "2659         17.490000  \n",
      "2660         12.490000  \n",
      "2661         14.573333  \n",
      "2662         12.490000  \n",
      "2663         12.491000  \n",
      "\n",
      "[2664 rows x 3 columns]\n"
     ]
    }
   ],
   "source": [
    "try:\n",
    "    query = \"\"\"\n",
    "    SELECT v.vendor_id, v.name_en, subquery.avg_delivery_fee\n",
    "    FROM (\n",
    "        SELECT vendor_id, AVG(delivery_fee_amount_lc) AS avg_delivery_fee\n",
    "        FROM fct_order\n",
    "        GROUP BY vendor_id\n",
    "    ) AS subquery\n",
    "    JOIN dim_vendor v ON subquery.vendor_id = v.vendor_id\n",
    "    WHERE subquery.avg_delivery_fee > (\n",
    "        SELECT AVG(delivery_fee_amount_lc) \n",
    "        FROM fct_order\n",
    "    );\n",
    "    \"\"\"\n",
    "    result_df = pd.read_sql(query, con=engine)\n",
    "    print(result_df)\n",
    "except Exception as e:\n",
    "    print(f\"Error during data retrieval: {e}\")\n"
   ]
  },
  {
   "cell_type": "markdown",
   "metadata": {},
   "source": [
    "6.\tRetrieve the top 5 vendors with the largest basket_amount_lc across all cities."
   ]
  },
  {
   "cell_type": "code",
   "execution_count": 51,
   "metadata": {},
   "outputs": [
    {
     "name": "stdout",
     "output_type": "stream",
     "text": [
      "   vendor_id                                            name_en  \\\n",
      "0     732634                 El Abd - Tagammoa 5 - Banks Center   \n",
      "1     603618                 Abou Fares Elsoury, Moustafa Kamel   \n",
      "2     618250                        Samsung, Sidi Besher Bahary   \n",
      "3     750330                 talabat mart, Miami - Arab Academy   \n",
      "4     748269  Abdel Rahim Koueider, Mohandesin - Jazerat El ...   \n",
      "\n",
      "   max_basket_amount_lc  \n",
      "0               7100.00  \n",
      "1               6270.00  \n",
      "2               4300.00  \n",
      "3               3505.69  \n",
      "4               3500.00  \n"
     ]
    }
   ],
   "source": [
    "try:\n",
    "    query = \"\"\"\n",
    "    SELECT o.vendor_id, v.name_en, MAX(o.basket_amount_lc) AS max_basket_amount_lc\n",
    "    FROM fct_order o\n",
    "    JOIN dim_vendor v ON o.vendor_id = v.vendor_id\n",
    "    GROUP BY o.vendor_id, v.name_en\n",
    "    ORDER BY max_basket_amount_lc DESC\n",
    "    LIMIT 5;\n",
    "    \"\"\"\n",
    "    result_df = pd.read_sql(query, con=engine)\n",
    "    print(result_df)\n",
    "except Exception as e:\n",
    "    print(f\"Error during data retrieval: {e}\")\n"
   ]
  },
  {
   "cell_type": "markdown",
   "metadata": {},
   "source": [
    "7.\tCalculate the median dropoff_distance_manhattan for orders in each city."
   ]
  },
  {
   "cell_type": "code",
   "execution_count": 52,
   "metadata": {},
   "outputs": [
    {
     "name": "stdout",
     "output_type": "stream",
     "text": [
      "                    City  median_dropoff_distance_manhattan\n",
      "0                   None                             1094.0\n",
      "1   Al Mahallah Al Kubra                                8.5\n",
      "2             Alexandria                             1043.0\n",
      "3                 Assiut                              427.0\n",
      "4                  Banha                              670.0\n",
      "5                  Cairo                              758.0\n",
      "6              Damanhour                                NaN\n",
      "7               Damietta                             1526.0\n",
      "8           Damietta New                             1207.0\n",
      "9               El Gouna                                NaN\n",
      "10              Hurghada                              809.0\n",
      "11              Ismailia                             1709.0\n",
      "12              Mansoura                             1172.0\n",
      "13                 Minya                             1487.5\n",
      "14           North Coast                                NaN\n",
      "15             Port Said                             1188.0\n",
      "16            Ras El Bar                              545.0\n",
      "17       Shebeen El Koom                             1136.0\n",
      "18                  Suez                              543.5\n",
      "19                 Suhag                              732.0\n",
      "20                Talkha                             2762.0\n",
      "21                 Tanta                             1141.0\n",
      "22               Zagazig                              960.0\n"
     ]
    }
   ],
   "source": [
    "try:\n",
    "    query = \"\"\"\n",
    "    WITH ordered_data AS (\n",
    "        SELECT \n",
    "            City, \n",
    "            dropoff_distance_manhattan,\n",
    "            ROW_NUMBER() OVER (PARTITION BY City ORDER BY dropoff_distance_manhattan) AS row_num,\n",
    "            COUNT(*) OVER (PARTITION BY City) AS total_rows\n",
    "        FROM fct_order\n",
    "    )\n",
    "    SELECT City, \n",
    "           AVG(dropoff_distance_manhattan) AS median_dropoff_distance_manhattan\n",
    "    FROM ordered_data\n",
    "    WHERE row_num IN (FLOOR((total_rows + 1) / 2), CEIL((total_rows + 1) / 2))\n",
    "    GROUP BY City;\n",
    "    \"\"\"\n",
    "    result_df = pd.read_sql(query, con=engine)\n",
    "    print(result_df)\n",
    "except Exception as e:\n",
    "    print(f\"Error during data retrieval: {e}\")\n"
   ]
  },
  {
   "cell_type": "markdown",
   "metadata": {},
   "source": [
    "8.\tWrite a query to display vendors who have processed more than 500 orders in total."
   ]
  },
  {
   "cell_type": "code",
   "execution_count": 53,
   "metadata": {},
   "outputs": [
    {
     "name": "stdout",
     "output_type": "stream",
     "text": [
      "   vendor_id  total_orders\n",
      "0     718588           640\n",
      "1     720071           646\n",
      "2     713239           635\n",
      "3     744902           675\n",
      "4     719908           708\n",
      "5     719902           590\n"
     ]
    }
   ],
   "source": [
    "try:\n",
    "    query = \"\"\"\n",
    "    SELECT vendor_id, COUNT(*) AS total_orders\n",
    "    FROM fct_order\n",
    "    GROUP BY vendor_id\n",
    "    HAVING COUNT(*) > 500\n",
    "    \"\"\"\n",
    "    result_df = pd.read_sql(query, con=engine)\n",
    "    print(result_df)\n",
    "except Exception as e:\n",
    "    print(f\"Error during data retrieval: {e}\")"
   ]
  },
  {
   "cell_type": "markdown",
   "metadata": {},
   "source": [
    "9.\tUse a window function to calculate the running total of orders for each City Cluster."
   ]
  },
  {
   "cell_type": "code",
   "execution_count": 54,
   "metadata": {},
   "outputs": [
    {
     "name": "stdout",
     "output_type": "stream",
     "text": [
      "         order_id                  city City Cluster  running_total_orders\n",
      "0       543997467                  None         None          5.439975e+08\n",
      "1       544298164       Shebeen El Koom         None          1.088296e+09\n",
      "2       544567658                  None         None          1.632863e+09\n",
      "3       544648621                  None         None          2.177512e+09\n",
      "4       544725154  Al Mahallah Al Kubra         None          2.722237e+09\n",
      "...           ...                   ...          ...                   ...\n",
      "119880  644304689             Port Said          ESM          3.336487e+12\n",
      "119881  644304881                Assiut          ESM          3.337131e+12\n",
      "119882  644305494                Assiut          ESM          3.337775e+12\n",
      "119883  644308407                Assiut          ESM          3.338419e+12\n",
      "119884  644311614             Port Said          ESM          3.339064e+12\n",
      "\n",
      "[119885 rows x 4 columns]\n"
     ]
    }
   ],
   "source": [
    "try:\n",
    "    query = \"\"\"\n",
    "    SELECT order_id, city, `City Cluster`, \n",
    "           SUM(order_id) OVER (PARTITION BY `City Cluster` ORDER BY order_time) AS running_total_orders\n",
    "    FROM fct_order\n",
    "    \"\"\"\n",
    "    result_df = pd.read_sql(query, con=engine)\n",
    "    print(result_df)\n",
    "except Exception as e:\n",
    "    print(f\"Error during data retrieval: {e}\")"
   ]
  },
  {
   "cell_type": "markdown",
   "metadata": {},
   "source": [
    "10.\tIdentify the top 3 most frequently occurring reasons for order failures."
   ]
  },
  {
   "cell_type": "code",
   "execution_count": 55,
   "metadata": {},
   "outputs": [
    {
     "name": "stdout",
     "output_type": "stream",
     "text": [
      "                   reason  total_orders\n",
      "0          ONLINE_PAYMENT          7394\n",
      "1  CUSTOMER_MISTAKE_ERROR          6161\n",
      "2             FRAUD_PRANK          2096\n"
     ]
    }
   ],
   "source": [
    "try:\n",
    "    query = \"SELECT reason, COUNT(*) AS total_orders FROM fct_order WHERE is_successful = 'FAILED' GROUP BY reason ORDER BY total_orders DESC LIMIT 3\"\n",
    "    result_df = pd.read_sql(query, con=engine)\n",
    "    print(result_df)\n",
    "except Exception as e:\n",
    "    print(f\"Error during data retrieval: {e}\")"
   ]
  },
  {
   "cell_type": "markdown",
   "metadata": {},
   "source": [
    "11.\tFind vendors whose orders have the shortest average delivery times."
   ]
  },
  {
   "cell_type": "code",
   "execution_count": 56,
   "metadata": {},
   "outputs": [
    {
     "name": "stdout",
     "output_type": "stream",
     "text": [
      "   vendor_id avg_order_delay\n",
      "0     751506            None\n",
      "1     609770            None\n",
      "2     725250            None\n",
      "3     739616            None\n",
      "4     712120            None\n"
     ]
    }
   ],
   "source": [
    "try:\n",
    "    query = \"\"\"\n",
    "    SELECT vendor_id, AVG(order_delay) AS avg_order_delay\n",
    "    FROM fct_order\n",
    "    GROUP BY vendor_id\n",
    "    ORDER BY avg_order_delay ASC\n",
    "    LIMIT 5\n",
    "    \"\"\"\n",
    "    result_df = pd.read_sql(query, con=engine)\n",
    "    print(result_df)\n",
    "except Exception as e:\n",
    "    print(f\"Error during data retrieval: {e}\")"
   ]
  },
  {
   "cell_type": "markdown",
   "metadata": {},
   "source": [
    "12.\tCalculate the average affordability_amt_total grouped by vertical_class and City."
   ]
  },
  {
   "cell_type": "code",
   "execution_count": 57,
   "metadata": {},
   "outputs": [
    {
     "name": "stdout",
     "output_type": "stream",
     "text": [
      "   vertical_class                  city  avg_affordability_amt_total\n",
      "0            food                 Cairo                    58.682711\n",
      "1            food                 Tanta                    59.850732\n",
      "2            food            Alexandria                    66.329225\n",
      "3        non-food                 Cairo                    31.110634\n",
      "4            food               Zagazig                    47.580963\n",
      "5            food                Assiut                    46.209250\n",
      "6            food              Damietta                    43.848387\n",
      "7        non-food              Mansoura                    40.493683\n",
      "8        non-food                 Tanta                    51.115586\n",
      "9        non-food                Talkha                    54.914667\n",
      "10           food              Mansoura                    58.967548\n",
      "11       non-food  Al Mahallah Al Kubra                    42.636364\n",
      "12           food              Ismailia                    50.884857\n",
      "13           food          Damietta New                    43.151695\n",
      "14           food             Port Said                    50.188898\n",
      "15           food                 Banha                    54.275190\n",
      "16           food              Hurghada                    53.328593\n",
      "17           food             Damanhour                    56.457457\n",
      "18           food                 Minya                    51.899857\n",
      "19           food       Shebeen El Koom                    63.439298\n",
      "20           food                  None                    53.607004\n",
      "21       non-food              Ismailia                    45.496000\n",
      "22       non-food            Alexandria                    37.417099\n",
      "23           food                Talkha                    57.528256\n",
      "24           food                 Suhag                    51.457627\n",
      "25           food           North Coast                    68.076446\n",
      "26           food  Al Mahallah Al Kubra                    55.560976\n",
      "27       non-food             Port Said                    46.734138\n",
      "28       non-food               Zagazig                    46.128375\n",
      "29       non-food                  None                    29.736410\n",
      "30           food                  Suez                    62.623793\n",
      "31       non-food       Shebeen El Koom                    45.000000\n",
      "32       non-food                 Banha                    22.300000\n",
      "33       non-food                  Suez                    49.299400\n",
      "34       non-food                Assiut                    56.250000\n",
      "35       non-food             Damanhour                          NaN\n",
      "36           food            Ras El Bar                    50.149082\n",
      "37           food              El Gouna                    20.000000\n",
      "38       non-food              Damietta                    44.833000\n"
     ]
    }
   ],
   "source": [
    "try:\n",
    "    query = \"SELECT vertical_class, city, AVG(affordability_amt_total) AS avg_affordability_amt_total FROM fct_order GROUP BY vertical_class, city\"\n",
    "    result_df = pd.read_sql(query, con=engine)\n",
    "    print(result_df)\n",
    "except Exception as e:\n",
    "    print(f\"Error during data retrieval: {e}\")"
   ]
  },
  {
   "cell_type": "markdown",
   "metadata": {},
   "source": [
    "13.\tWrite a query to determine the percentage of total orders contributed by each platform."
   ]
  },
  {
   "cell_type": "code",
   "execution_count": 58,
   "metadata": {},
   "outputs": [
    {
     "name": "stdout",
     "output_type": "stream",
     "text": [
      "      platform  percentage_orders\n",
      "0          iOS            47.0901\n",
      "1      android            51.6028\n",
      "2  desktop web             0.8225\n",
      "3   mobile web             0.4846\n"
     ]
    }
   ],
   "source": [
    "try:\n",
    "    query = \"SELECT platform, COUNT(*) / (SELECT COUNT(*) FROM fct_order) * 100 AS percentage_orders FROM fct_order GROUP BY platform\"\n",
    "    result_df = pd.read_sql(query, con=engine)\n",
    "    print(result_df)\n",
    "except Exception as e:  \n",
    "    print(f\"Error during data retrieval: {e}\")"
   ]
  },
  {
   "cell_type": "markdown",
   "metadata": {},
   "source": [
    "14.\tIdentify vendors with more than 90% successful orders."
   ]
  },
  {
   "cell_type": "code",
   "execution_count": 59,
   "metadata": {},
   "outputs": [
    {
     "name": "stdout",
     "output_type": "stream",
     "text": [
      "      vendor_id                                            name_en  \\\n",
      "0        607670                          Oldish, Downtown - Tahrir   \n",
      "1        735754    Cabana Club, Maadi Corniche - El Salam Hospital   \n",
      "2        748514                        Ez al Minofy, El Rehab City   \n",
      "3        735735                           ZANOBIA,Haram - El Ahram   \n",
      "4        718825                      mr shrimpo,Sidi Besher Bahary   \n",
      "...         ...                                                ...   \n",
      "2336     613535  Zaher Patisserie & Dairy, Heliopolis - Hegaz S...   \n",
      "2337     735598                            Bl Wahda, El Rehab City   \n",
      "2338     762586                    Batates And Zalabya, El Mashaya   \n",
      "2339     727528  Bon Abd El Ma3bod - Asrar El Bon, Mokattam - E...   \n",
      "2340     712120                           Rockets,Shobra El Kheima   \n",
      "\n",
      "      success_rate  \n",
      "0         100.0000  \n",
      "1         100.0000  \n",
      "2          94.4444  \n",
      "3         100.0000  \n",
      "4         100.0000  \n",
      "...            ...  \n",
      "2336      100.0000  \n",
      "2337      100.0000  \n",
      "2338      100.0000  \n",
      "2339      100.0000  \n",
      "2340      100.0000  \n",
      "\n",
      "[2341 rows x 3 columns]\n"
     ]
    }
   ],
   "source": [
    "try:\n",
    "    query = \"\"\"\n",
    "    SELECT \n",
    "        o.vendor_id, \n",
    "        v.name_en, \n",
    "        SUM(CASE WHEN o.is_successful = 1 THEN 1 ELSE 0 END) / COUNT(o.order_id) * 100 AS success_rate\n",
    "    FROM fct_order o\n",
    "    JOIN dim_vendor v ON o.vendor_id = v.vendor_id\n",
    "    GROUP BY o.vendor_id, v.name_en\n",
    "    HAVING success_rate > 90;\n",
    "    \"\"\"\n",
    "    result_df = pd.read_sql(query, con=engine)\n",
    "    print(result_df)\n",
    "except Exception as e:\n",
    "    print(f\"Error during data retrieval: {e}\")\n"
   ]
  },
  {
   "cell_type": "markdown",
   "metadata": {},
   "source": [
    "15.\tRetrieve the city with the highest number of affordable orders."
   ]
  },
  {
   "cell_type": "code",
   "execution_count": 60,
   "metadata": {},
   "outputs": [
    {
     "name": "stdout",
     "output_type": "stream",
     "text": [
      "    city  total_affordable_orders\n",
      "0  Cairo                    25126\n"
     ]
    }
   ],
   "source": [
    "try:\n",
    "    query = \"SELECT city, COUNT(*) AS total_affordable_orders FROM fct_order WHERE is_affordable = 1 GROUP BY city ORDER BY total_affordable_orders DESC LIMIT 1\"\n",
    "    result_df = pd.read_sql(query, con=engine)\n",
    "    print(result_df)\n",
    "except Exception as e:\n",
    "    print(f\"Error during data retrieval: {e}\")"
   ]
  },
  {
   "cell_type": "markdown",
   "metadata": {},
   "source": [
    "16.\tUse a CTE to analyze vertical trends across different platforms."
   ]
  },
  {
   "cell_type": "code",
   "execution_count": 61,
   "metadata": {},
   "outputs": [
    {
     "name": "stdout",
     "output_type": "stream",
     "text": [
      "       platform     vertical  total_orders\n",
      "0       android         food         53881\n",
      "1       android      grocery          7911\n",
      "2       android     pharmacy            28\n",
      "3       android  electronics            16\n",
      "4       android    cosmetics            15\n",
      "5       android     pet shop            12\n",
      "6       android      flowers             1\n",
      "7   desktop web         food           938\n",
      "8   desktop web      grocery            46\n",
      "9   desktop web     pet shop             1\n",
      "10  desktop web     pharmacy             1\n",
      "11          iOS         food         49696\n",
      "12          iOS      grocery          6674\n",
      "13          iOS     pharmacy            57\n",
      "14          iOS    cosmetics            12\n",
      "15          iOS  electronics            11\n",
      "16          iOS     pet shop             3\n",
      "17          iOS      flowers             1\n",
      "18   mobile web         food           542\n",
      "19   mobile web      grocery            39\n"
     ]
    }
   ],
   "source": [
    "try:\n",
    "    query = \"\"\"\n",
    "    WITH vertical_trends AS (\n",
    "        SELECT platform, vertical, COUNT(*) AS total_orders\n",
    "        FROM fct_order\n",
    "        GROUP BY platform, vertical\n",
    "    )\n",
    "    SELECT platform, vertical, total_orders\n",
    "    FROM vertical_trends\n",
    "    ORDER BY platform, total_orders DESC;\n",
    "    \"\"\"\n",
    "    result_df = pd.read_sql(query, con=engine)\n",
    "    print(result_df)\n",
    "except Exception as e:\n",
    "    print(f\"Error during data retrieval: {e}\")"
   ]
  },
  {
   "cell_type": "markdown",
   "metadata": {},
   "source": [
    "17.\tFind the vendor_id with the longest average order_delay."
   ]
  },
  {
   "cell_type": "code",
   "execution_count": 62,
   "metadata": {},
   "outputs": [
    {
     "name": "stdout",
     "output_type": "stream",
     "text": [
      "   vendor_id  avg_order_delay\n",
      "0     721060           6865.0\n"
     ]
    }
   ],
   "source": [
    "try:\n",
    "    query = \"\"\"\n",
    "    SELECT vendor_id, AVG(order_delay) AS avg_order_delay\n",
    "    FROM fct_order\n",
    "    GROUP BY vendor_id\n",
    "    ORDER BY avg_order_delay DESC\n",
    "    LIMIT 1\n",
    "    \"\"\"\n",
    "    result_df = pd.read_sql(query, con=engine)\n",
    "    print(result_df)\n",
    "except Exception as e:\n",
    "    print(f\"Error during data retrieval: {e}\")"
   ]
  },
  {
   "cell_type": "markdown",
   "metadata": {},
   "source": [
    "18.\tCalculate the difference between the promised and actual delivery times for all orders."
   ]
  },
  {
   "cell_type": "code",
   "execution_count": 63,
   "metadata": {},
   "outputs": [
    {
     "name": "stdout",
     "output_type": "stream",
     "text": [
      "         order_id  promised_delivery_time  actual_delivery_time  \\\n",
      "0       544145594                  1739.0                1896.0   \n",
      "1       544478492                  2159.0                3506.0   \n",
      "2       544358032                  2159.0                3357.0   \n",
      "3       544366924                  2519.0                3237.0   \n",
      "4       544372362                  1499.0                1216.0   \n",
      "...           ...                     ...                   ...   \n",
      "119880  642783788                     NaN                   NaN   \n",
      "119881  642718374                     NaN                   NaN   \n",
      "119882  642739962                     NaN                   NaN   \n",
      "119883  643440356                     NaN                   NaN   \n",
      "119884  643105834                     NaN                   NaN   \n",
      "\n",
      "        delivery_time_difference  \n",
      "0                          157.0  \n",
      "1                         1347.0  \n",
      "2                         1198.0  \n",
      "3                          718.0  \n",
      "4                         -283.0  \n",
      "...                          ...  \n",
      "119880                       NaN  \n",
      "119881                       NaN  \n",
      "119882                       NaN  \n",
      "119883                       NaN  \n",
      "119884                       NaN  \n",
      "\n",
      "[119885 rows x 4 columns]\n"
     ]
    }
   ],
   "source": [
    "try:\n",
    "    query = \"SELECT order_id, promised_delivery_time, actual_delivery_time, actual_delivery_time - promised_delivery_time AS delivery_time_difference FROM fct_order\"\n",
    "    result_df = pd.read_sql(query, con=engine)\n",
    "    print(result_df)\n",
    "except Exception as e:\n",
    "    print(f\"Error during data retrieval: {e}\")"
   ]
  },
  {
   "cell_type": "markdown",
   "metadata": {},
   "source": [
    "19.\tCreate a query to display vendors with no orders in the last 30 days."
   ]
  },
  {
   "cell_type": "code",
   "execution_count": 64,
   "metadata": {},
   "outputs": [
    {
     "name": "stdout",
     "output_type": "stream",
     "text": [
      "        vendor_id                                        name_en\n",
      "0          747955  Koshary El Haref, Mokattam - Qatameya Gardens\n",
      "1          708557                 Koshary Hend, Cairo - Abbasiya\n",
      "2          708557                 Koshary Hend, Cairo - Abbasiya\n",
      "3          714857       EL-Zaiem, Nasr City - El Wafaa W El Amal\n",
      "4          749755                               Soy Wok, Semouha\n",
      "...           ...                                            ...\n",
      "118870     748820    Habib Nasr City, Nasr City - Zaker Huessein\n",
      "118871     748820    Habib Nasr City, Nasr City - Zaker Huessein\n",
      "118872     748820    Habib Nasr City, Nasr City - Zaker Huessein\n",
      "118873     748820    Habib Nasr City, Nasr City - Zaker Huessein\n",
      "118874     748820    Habib Nasr City, Nasr City - Zaker Huessein\n",
      "\n",
      "[118875 rows x 2 columns]\n"
     ]
    }
   ],
   "source": [
    "try:\n",
    "    query = \"\"\"\n",
    "    SELECT v.vendor_id, v.name_en\n",
    "    FROM dim_vendor v\n",
    "    LEFT JOIN fct_order o ON v.vendor_id = o.vendor_id\n",
    "    WHERE o.order_time IS NULL OR o.order_time < DATE_SUB(CURDATE(), INTERVAL 30 DAY)\n",
    "    \"\"\"\n",
    "    result_df = pd.read_sql(query, con=engine)\n",
    "    print(result_df)\n",
    "except Exception as e:\n",
    "    print(f\"Error during data retrieval: {e}\")"
   ]
  },
  {
   "cell_type": "markdown",
   "metadata": {},
   "source": [
    "20.\tWrite a query to find orders where the vendor's main_cuisine is not aligned with the vertical."
   ]
  },
  {
   "cell_type": "code",
   "execution_count": 65,
   "metadata": {},
   "outputs": [
    {
     "name": "stdout",
     "output_type": "stream",
     "text": [
      "         order_id          order_time  vendor_id    analytical_customer_id  \\\n",
      "0       544145594 2021-09-01 10:41:53     609508  6zWSp9yqnEQuq4N6ykRgbbdQ   \n",
      "1       544358032 2021-09-01 15:56:56     709071  7pB4MC2aBPRdajLH2wPvIvAA   \n",
      "2       544366924 2021-09-01 16:09:09     607670  AFedsf0e-lSZer_X0eR4VE-g   \n",
      "3       544372362 2021-09-01 16:16:32     616421  JDYqF36aULSEaWsz604DuuRw   \n",
      "4       544467338 2021-09-01 18:06:40     735754  uJkW3IHmcxT5m8qhHNHLfIpg   \n",
      "...           ...                 ...        ...                       ...   \n",
      "104500  643234018 2022-01-01 19:02:12     611076  _J3FHnweOvRxeEGewJt-FI4g   \n",
      "104501  642691949 2022-01-01 01:33:14     602836  izLCkqz-46Ta-FMpzfgEle4Q   \n",
      "104502  642718374 2022-01-01 03:24:56     607605  yTrHLDAuhuScuiCHABzNUdWA   \n",
      "104503  643440356 2022-01-01 23:00:07     602778  RiSAcy9SUKT5SU_k9rWqVeug   \n",
      "104504  643105834 2022-01-01 17:01:47     602795  3zGv03US8BT-SpBHUAKVWmDQ   \n",
      "\n",
      "        is_acquisition  is_successful reason sub_reason owner  \\\n",
      "0                    0              1   None       None  None   \n",
      "1                    0              1   None       None  None   \n",
      "2                    0              1   None       None  None   \n",
      "3                    0              1   None       None  None   \n",
      "4                    0              1   None       None  None   \n",
      "...                ...            ...    ...        ...   ...   \n",
      "104500               1              1   None       None  None   \n",
      "104501               1              1   None       None  None   \n",
      "104502               0              1   None       None  None   \n",
      "104503               0              1   None       None  None   \n",
      "104504               1              1   None       None  None   \n",
      "\n",
      "       delivery_arrangement  ...  is_affordable_item  is_affordable_gem  \\\n",
      "0                       TGO  ...                   0                  0   \n",
      "1                       TGO  ...                   0                  0   \n",
      "2                       TGO  ...                   0                  0   \n",
      "3                       TGO  ...                   0                  0   \n",
      "4                       TGO  ...                   1                  0   \n",
      "...                     ...  ...                 ...                ...   \n",
      "104500                  TMP  ...                   0                  0   \n",
      "104501                  TMP  ...                   0                  0   \n",
      "104502                  TMP  ...                   0                  0   \n",
      "104503                  TMP  ...                   0                  0   \n",
      "104504                  TMP  ...                   0                  0   \n",
      "\n",
      "        is_affordable_restaurant is_affordable_voucher  is_affordable  \\\n",
      "0                              0                     0              0   \n",
      "1                              0                     0              0   \n",
      "2                              0                     0              0   \n",
      "3                              0                     0              0   \n",
      "4                              0                     0              1   \n",
      "...                          ...                   ...            ...   \n",
      "104500                         0                     0              0   \n",
      "104501                         0                     0              0   \n",
      "104502                         0                     0              0   \n",
      "104503                         0                     0              0   \n",
      "104504                         0                     0              0   \n",
      "\n",
      "        affordability_amt_total  City Cluster        City               Zone  \\\n",
      "0                           NaN         Cairo       Cairo        Mohandiseen   \n",
      "1                           NaN         Cairo       Cairo     Tagamoa 5 east   \n",
      "2                           NaN         Cairo       Cairo  Cairo_city_centre   \n",
      "3                           NaN         Cairo       Cairo              Maadi   \n",
      "4                          38.0         Cairo       Cairo              Maadi   \n",
      "...                         ...           ...         ...                ...   \n",
      "104500                      NaN         Cairo       Cairo               Giza   \n",
      "104501                      NaN           ESM   Port Said      Portsaid city   \n",
      "104502                      NaN         Cairo       Cairo         Heliopolis   \n",
      "104503                      NaN          Alex  Alexandria    Alexandria west   \n",
      "104504                      NaN         Cairo       Cairo             Helwan   \n",
      "\n",
      "            main_cuisine  \n",
      "0           Coffee & Tea  \n",
      "1       Foul and Falafel  \n",
      "2                Italian  \n",
      "3               Desserts  \n",
      "4          International  \n",
      "...                  ...  \n",
      "104500         Fast Food  \n",
      "104501             Pizza  \n",
      "104502           Burgers  \n",
      "104503         Fast Food  \n",
      "104504         Fast Food  \n",
      "\n",
      "[104505 rows x 32 columns]\n"
     ]
    }
   ],
   "source": [
    "try:\n",
    "    query = \"\"\"\n",
    "    SELECT o.*, v.main_cuisine\n",
    "    FROM fct_order o\n",
    "    JOIN dim_vendor v ON o.vendor_id = v.vendor_id\n",
    "    WHERE o.vertical != v.main_cuisine\n",
    "    \"\"\"\n",
    "    result_df = pd.read_sql(query, con=engine)\n",
    "    print(result_df)\n",
    "except Exception as e:\n",
    "    print(f\"Error during data retrieval: {e}\")"
   ]
  }
 ],
 "metadata": {
  "kernelspec": {
   "display_name": "base",
   "language": "python",
   "name": "python3"
  },
  "language_info": {
   "codemirror_mode": {
    "name": "ipython",
    "version": 3
   },
   "file_extension": ".py",
   "mimetype": "text/x-python",
   "name": "python",
   "nbconvert_exporter": "python",
   "pygments_lexer": "ipython3",
   "version": "3.11.7"
  }
 },
 "nbformat": 4,
 "nbformat_minor": 2
}
